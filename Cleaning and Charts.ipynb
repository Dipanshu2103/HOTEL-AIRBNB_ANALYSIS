{
 "cells": [
  {
   "cell_type": "code",
   "execution_count": 1,
   "id": "ca97a01e-3705-4fa0-88dc-c5a98aca63c5",
   "metadata": {},
   "outputs": [],
   "source": [
    "# importing the necessary libraries\n",
    "import pandas as pd\n",
    "import numpy as np\n",
    "import matplotlib.pyplot as plt\n",
    "import seaborn as sns\n",
    "import warnings\n",
    "warnings.filterwarnings('ignore')"
   ]
  },
  {
   "cell_type": "code",
   "execution_count": 2,
   "id": "7b19ffa3-75a7-4d33-9183-9e7ad4a03328",
   "metadata": {},
   "outputs": [
    {
     "data": {
      "text/html": [
       "<div>\n",
       "<style scoped>\n",
       "    .dataframe tbody tr th:only-of-type {\n",
       "        vertical-align: middle;\n",
       "    }\n",
       "\n",
       "    .dataframe tbody tr th {\n",
       "        vertical-align: top;\n",
       "    }\n",
       "\n",
       "    .dataframe thead th {\n",
       "        text-align: right;\n",
       "    }\n",
       "</style>\n",
       "<table border=\"1\" class=\"dataframe\">\n",
       "  <thead>\n",
       "    <tr style=\"text-align: right;\">\n",
       "      <th></th>\n",
       "      <th>id</th>\n",
       "      <th>NAME</th>\n",
       "      <th>host id</th>\n",
       "      <th>host_identity_verified</th>\n",
       "      <th>host name</th>\n",
       "      <th>neighbourhood group</th>\n",
       "      <th>neighbourhood</th>\n",
       "      <th>lat</th>\n",
       "      <th>long</th>\n",
       "      <th>country</th>\n",
       "      <th>...</th>\n",
       "      <th>service fee</th>\n",
       "      <th>minimum nights</th>\n",
       "      <th>number of reviews</th>\n",
       "      <th>last review</th>\n",
       "      <th>reviews per month</th>\n",
       "      <th>review rate number</th>\n",
       "      <th>calculated host listings count</th>\n",
       "      <th>availability 365</th>\n",
       "      <th>house_rules</th>\n",
       "      <th>license</th>\n",
       "    </tr>\n",
       "  </thead>\n",
       "  <tbody>\n",
       "    <tr>\n",
       "      <th>0</th>\n",
       "      <td>1001254</td>\n",
       "      <td>Clean &amp; quiet apt home by the park</td>\n",
       "      <td>80014485718</td>\n",
       "      <td>unconfirmed</td>\n",
       "      <td>Madaline</td>\n",
       "      <td>Brooklyn</td>\n",
       "      <td>Kensington</td>\n",
       "      <td>40.64749</td>\n",
       "      <td>-73.97237</td>\n",
       "      <td>United States</td>\n",
       "      <td>...</td>\n",
       "      <td>$193</td>\n",
       "      <td>10.0</td>\n",
       "      <td>9.0</td>\n",
       "      <td>10/19/2021</td>\n",
       "      <td>0.21</td>\n",
       "      <td>4.0</td>\n",
       "      <td>6.0</td>\n",
       "      <td>286.0</td>\n",
       "      <td>Clean up and treat the home the way you'd like...</td>\n",
       "      <td>NaN</td>\n",
       "    </tr>\n",
       "    <tr>\n",
       "      <th>1</th>\n",
       "      <td>1002102</td>\n",
       "      <td>Skylit Midtown Castle</td>\n",
       "      <td>52335172823</td>\n",
       "      <td>verified</td>\n",
       "      <td>Jenna</td>\n",
       "      <td>Manhattan</td>\n",
       "      <td>Midtown</td>\n",
       "      <td>40.75362</td>\n",
       "      <td>-73.98377</td>\n",
       "      <td>United States</td>\n",
       "      <td>...</td>\n",
       "      <td>$28</td>\n",
       "      <td>30.0</td>\n",
       "      <td>45.0</td>\n",
       "      <td>5/21/2022</td>\n",
       "      <td>0.38</td>\n",
       "      <td>4.0</td>\n",
       "      <td>2.0</td>\n",
       "      <td>228.0</td>\n",
       "      <td>Pet friendly but please confirm with me if the...</td>\n",
       "      <td>NaN</td>\n",
       "    </tr>\n",
       "    <tr>\n",
       "      <th>2</th>\n",
       "      <td>1002403</td>\n",
       "      <td>THE VILLAGE OF HARLEM....NEW YORK !</td>\n",
       "      <td>78829239556</td>\n",
       "      <td>NaN</td>\n",
       "      <td>Elise</td>\n",
       "      <td>Manhattan</td>\n",
       "      <td>Harlem</td>\n",
       "      <td>40.80902</td>\n",
       "      <td>-73.94190</td>\n",
       "      <td>United States</td>\n",
       "      <td>...</td>\n",
       "      <td>$124</td>\n",
       "      <td>3.0</td>\n",
       "      <td>0.0</td>\n",
       "      <td>NaN</td>\n",
       "      <td>NaN</td>\n",
       "      <td>5.0</td>\n",
       "      <td>1.0</td>\n",
       "      <td>352.0</td>\n",
       "      <td>I encourage you to use my kitchen, cooking and...</td>\n",
       "      <td>NaN</td>\n",
       "    </tr>\n",
       "    <tr>\n",
       "      <th>3</th>\n",
       "      <td>1002755</td>\n",
       "      <td>NaN</td>\n",
       "      <td>85098326012</td>\n",
       "      <td>unconfirmed</td>\n",
       "      <td>Garry</td>\n",
       "      <td>Brooklyn</td>\n",
       "      <td>Clinton Hill</td>\n",
       "      <td>40.68514</td>\n",
       "      <td>-73.95976</td>\n",
       "      <td>United States</td>\n",
       "      <td>...</td>\n",
       "      <td>$74</td>\n",
       "      <td>30.0</td>\n",
       "      <td>270.0</td>\n",
       "      <td>7/5/2019</td>\n",
       "      <td>4.64</td>\n",
       "      <td>4.0</td>\n",
       "      <td>1.0</td>\n",
       "      <td>322.0</td>\n",
       "      <td>NaN</td>\n",
       "      <td>NaN</td>\n",
       "    </tr>\n",
       "    <tr>\n",
       "      <th>4</th>\n",
       "      <td>1003689</td>\n",
       "      <td>Entire Apt: Spacious Studio/Loft by central park</td>\n",
       "      <td>92037596077</td>\n",
       "      <td>verified</td>\n",
       "      <td>Lyndon</td>\n",
       "      <td>Manhattan</td>\n",
       "      <td>East Harlem</td>\n",
       "      <td>40.79851</td>\n",
       "      <td>-73.94399</td>\n",
       "      <td>United States</td>\n",
       "      <td>...</td>\n",
       "      <td>$41</td>\n",
       "      <td>10.0</td>\n",
       "      <td>9.0</td>\n",
       "      <td>11/19/2018</td>\n",
       "      <td>0.10</td>\n",
       "      <td>3.0</td>\n",
       "      <td>1.0</td>\n",
       "      <td>289.0</td>\n",
       "      <td>Please no smoking in the house, porch or on th...</td>\n",
       "      <td>NaN</td>\n",
       "    </tr>\n",
       "    <tr>\n",
       "      <th>...</th>\n",
       "      <td>...</td>\n",
       "      <td>...</td>\n",
       "      <td>...</td>\n",
       "      <td>...</td>\n",
       "      <td>...</td>\n",
       "      <td>...</td>\n",
       "      <td>...</td>\n",
       "      <td>...</td>\n",
       "      <td>...</td>\n",
       "      <td>...</td>\n",
       "      <td>...</td>\n",
       "      <td>...</td>\n",
       "      <td>...</td>\n",
       "      <td>...</td>\n",
       "      <td>...</td>\n",
       "      <td>...</td>\n",
       "      <td>...</td>\n",
       "      <td>...</td>\n",
       "      <td>...</td>\n",
       "      <td>...</td>\n",
       "      <td>...</td>\n",
       "    </tr>\n",
       "    <tr>\n",
       "      <th>102594</th>\n",
       "      <td>6092437</td>\n",
       "      <td>Spare room in Williamsburg</td>\n",
       "      <td>12312296767</td>\n",
       "      <td>verified</td>\n",
       "      <td>Krik</td>\n",
       "      <td>Brooklyn</td>\n",
       "      <td>Williamsburg</td>\n",
       "      <td>40.70862</td>\n",
       "      <td>-73.94651</td>\n",
       "      <td>United States</td>\n",
       "      <td>...</td>\n",
       "      <td>$169</td>\n",
       "      <td>1.0</td>\n",
       "      <td>0.0</td>\n",
       "      <td>NaN</td>\n",
       "      <td>NaN</td>\n",
       "      <td>3.0</td>\n",
       "      <td>1.0</td>\n",
       "      <td>227.0</td>\n",
       "      <td>No Smoking No Parties or Events of any kind Pl...</td>\n",
       "      <td>NaN</td>\n",
       "    </tr>\n",
       "    <tr>\n",
       "      <th>102595</th>\n",
       "      <td>6092990</td>\n",
       "      <td>Best Location near Columbia U</td>\n",
       "      <td>77864383453</td>\n",
       "      <td>unconfirmed</td>\n",
       "      <td>Mifan</td>\n",
       "      <td>Manhattan</td>\n",
       "      <td>Morningside Heights</td>\n",
       "      <td>40.80460</td>\n",
       "      <td>-73.96545</td>\n",
       "      <td>United States</td>\n",
       "      <td>...</td>\n",
       "      <td>$167</td>\n",
       "      <td>1.0</td>\n",
       "      <td>1.0</td>\n",
       "      <td>7/6/2015</td>\n",
       "      <td>0.02</td>\n",
       "      <td>2.0</td>\n",
       "      <td>2.0</td>\n",
       "      <td>395.0</td>\n",
       "      <td>House rules: Guests agree to the following ter...</td>\n",
       "      <td>NaN</td>\n",
       "    </tr>\n",
       "    <tr>\n",
       "      <th>102596</th>\n",
       "      <td>6093542</td>\n",
       "      <td>Comfy, bright room in Brooklyn</td>\n",
       "      <td>69050334417</td>\n",
       "      <td>unconfirmed</td>\n",
       "      <td>Megan</td>\n",
       "      <td>Brooklyn</td>\n",
       "      <td>Park Slope</td>\n",
       "      <td>40.67505</td>\n",
       "      <td>-73.98045</td>\n",
       "      <td>United States</td>\n",
       "      <td>...</td>\n",
       "      <td>$198</td>\n",
       "      <td>3.0</td>\n",
       "      <td>0.0</td>\n",
       "      <td>NaN</td>\n",
       "      <td>NaN</td>\n",
       "      <td>5.0</td>\n",
       "      <td>1.0</td>\n",
       "      <td>342.0</td>\n",
       "      <td>NaN</td>\n",
       "      <td>NaN</td>\n",
       "    </tr>\n",
       "    <tr>\n",
       "      <th>102597</th>\n",
       "      <td>6094094</td>\n",
       "      <td>Big Studio-One Stop from Midtown</td>\n",
       "      <td>11160591270</td>\n",
       "      <td>unconfirmed</td>\n",
       "      <td>Christopher</td>\n",
       "      <td>Queens</td>\n",
       "      <td>Long Island City</td>\n",
       "      <td>40.74989</td>\n",
       "      <td>-73.93777</td>\n",
       "      <td>United States</td>\n",
       "      <td>...</td>\n",
       "      <td>$109</td>\n",
       "      <td>2.0</td>\n",
       "      <td>5.0</td>\n",
       "      <td>10/11/2015</td>\n",
       "      <td>0.10</td>\n",
       "      <td>3.0</td>\n",
       "      <td>1.0</td>\n",
       "      <td>386.0</td>\n",
       "      <td>NaN</td>\n",
       "      <td>NaN</td>\n",
       "    </tr>\n",
       "    <tr>\n",
       "      <th>102598</th>\n",
       "      <td>6094647</td>\n",
       "      <td>585 sf Luxury Studio</td>\n",
       "      <td>68170633372</td>\n",
       "      <td>unconfirmed</td>\n",
       "      <td>Rebecca</td>\n",
       "      <td>Manhattan</td>\n",
       "      <td>Upper West Side</td>\n",
       "      <td>40.76807</td>\n",
       "      <td>-73.98342</td>\n",
       "      <td>United States</td>\n",
       "      <td>...</td>\n",
       "      <td>$206</td>\n",
       "      <td>1.0</td>\n",
       "      <td>0.0</td>\n",
       "      <td>NaN</td>\n",
       "      <td>NaN</td>\n",
       "      <td>3.0</td>\n",
       "      <td>1.0</td>\n",
       "      <td>69.0</td>\n",
       "      <td>NaN</td>\n",
       "      <td>NaN</td>\n",
       "    </tr>\n",
       "  </tbody>\n",
       "</table>\n",
       "<p>102599 rows × 26 columns</p>\n",
       "</div>"
      ],
      "text/plain": [
       "             id                                              NAME  \\\n",
       "0       1001254                Clean & quiet apt home by the park   \n",
       "1       1002102                             Skylit Midtown Castle   \n",
       "2       1002403               THE VILLAGE OF HARLEM....NEW YORK !   \n",
       "3       1002755                                               NaN   \n",
       "4       1003689  Entire Apt: Spacious Studio/Loft by central park   \n",
       "...         ...                                               ...   \n",
       "102594  6092437                        Spare room in Williamsburg   \n",
       "102595  6092990                     Best Location near Columbia U   \n",
       "102596  6093542                    Comfy, bright room in Brooklyn   \n",
       "102597  6094094                  Big Studio-One Stop from Midtown   \n",
       "102598  6094647                              585 sf Luxury Studio   \n",
       "\n",
       "            host id host_identity_verified    host name neighbourhood group  \\\n",
       "0       80014485718            unconfirmed     Madaline            Brooklyn   \n",
       "1       52335172823               verified        Jenna           Manhattan   \n",
       "2       78829239556                    NaN        Elise           Manhattan   \n",
       "3       85098326012            unconfirmed        Garry            Brooklyn   \n",
       "4       92037596077               verified       Lyndon           Manhattan   \n",
       "...             ...                    ...          ...                 ...   \n",
       "102594  12312296767               verified         Krik            Brooklyn   \n",
       "102595  77864383453            unconfirmed        Mifan           Manhattan   \n",
       "102596  69050334417            unconfirmed        Megan            Brooklyn   \n",
       "102597  11160591270            unconfirmed  Christopher              Queens   \n",
       "102598  68170633372            unconfirmed      Rebecca           Manhattan   \n",
       "\n",
       "              neighbourhood       lat      long        country  ...  \\\n",
       "0                Kensington  40.64749 -73.97237  United States  ...   \n",
       "1                   Midtown  40.75362 -73.98377  United States  ...   \n",
       "2                    Harlem  40.80902 -73.94190  United States  ...   \n",
       "3              Clinton Hill  40.68514 -73.95976  United States  ...   \n",
       "4               East Harlem  40.79851 -73.94399  United States  ...   \n",
       "...                     ...       ...       ...            ...  ...   \n",
       "102594         Williamsburg  40.70862 -73.94651  United States  ...   \n",
       "102595  Morningside Heights  40.80460 -73.96545  United States  ...   \n",
       "102596           Park Slope  40.67505 -73.98045  United States  ...   \n",
       "102597     Long Island City  40.74989 -73.93777  United States  ...   \n",
       "102598      Upper West Side  40.76807 -73.98342  United States  ...   \n",
       "\n",
       "       service fee minimum nights number of reviews last review  \\\n",
       "0            $193            10.0               9.0  10/19/2021   \n",
       "1             $28            30.0              45.0   5/21/2022   \n",
       "2            $124             3.0               0.0         NaN   \n",
       "3             $74            30.0             270.0    7/5/2019   \n",
       "4             $41            10.0               9.0  11/19/2018   \n",
       "...            ...            ...               ...         ...   \n",
       "102594       $169             1.0               0.0         NaN   \n",
       "102595       $167             1.0               1.0    7/6/2015   \n",
       "102596       $198             3.0               0.0         NaN   \n",
       "102597       $109             2.0               5.0  10/11/2015   \n",
       "102598       $206             1.0               0.0         NaN   \n",
       "\n",
       "        reviews per month review rate number calculated host listings count  \\\n",
       "0                    0.21                4.0                            6.0   \n",
       "1                    0.38                4.0                            2.0   \n",
       "2                     NaN                5.0                            1.0   \n",
       "3                    4.64                4.0                            1.0   \n",
       "4                    0.10                3.0                            1.0   \n",
       "...                   ...                ...                            ...   \n",
       "102594                NaN                3.0                            1.0   \n",
       "102595               0.02                2.0                            2.0   \n",
       "102596                NaN                5.0                            1.0   \n",
       "102597               0.10                3.0                            1.0   \n",
       "102598                NaN                3.0                            1.0   \n",
       "\n",
       "        availability 365                                        house_rules  \\\n",
       "0                  286.0  Clean up and treat the home the way you'd like...   \n",
       "1                  228.0  Pet friendly but please confirm with me if the...   \n",
       "2                  352.0  I encourage you to use my kitchen, cooking and...   \n",
       "3                  322.0                                                NaN   \n",
       "4                  289.0  Please no smoking in the house, porch or on th...   \n",
       "...                  ...                                                ...   \n",
       "102594             227.0  No Smoking No Parties or Events of any kind Pl...   \n",
       "102595             395.0  House rules: Guests agree to the following ter...   \n",
       "102596             342.0                                                NaN   \n",
       "102597             386.0                                                NaN   \n",
       "102598              69.0                                                NaN   \n",
       "\n",
       "       license  \n",
       "0          NaN  \n",
       "1          NaN  \n",
       "2          NaN  \n",
       "3          NaN  \n",
       "4          NaN  \n",
       "...        ...  \n",
       "102594     NaN  \n",
       "102595     NaN  \n",
       "102596     NaN  \n",
       "102597     NaN  \n",
       "102598     NaN  \n",
       "\n",
       "[102599 rows x 26 columns]"
      ]
     },
     "execution_count": 2,
     "metadata": {},
     "output_type": "execute_result"
    }
   ],
   "source": [
    "# importing dataset\n",
    "hotel=pd.read_csv(\"Hotel.csv\",low_memory=False)\n",
    "hotel"
   ]
  },
  {
   "cell_type": "code",
   "execution_count": 3,
   "id": "16b4a5d3-7b95-4fd3-ad63-639dcbde2b93",
   "metadata": {},
   "outputs": [
    {
     "data": {
      "text/html": [
       "<div>\n",
       "<style scoped>\n",
       "    .dataframe tbody tr th:only-of-type {\n",
       "        vertical-align: middle;\n",
       "    }\n",
       "\n",
       "    .dataframe tbody tr th {\n",
       "        vertical-align: top;\n",
       "    }\n",
       "\n",
       "    .dataframe thead th {\n",
       "        text-align: right;\n",
       "    }\n",
       "</style>\n",
       "<table border=\"1\" class=\"dataframe\">\n",
       "  <thead>\n",
       "    <tr style=\"text-align: right;\">\n",
       "      <th></th>\n",
       "      <th>id</th>\n",
       "      <th>NAME</th>\n",
       "      <th>host id</th>\n",
       "      <th>host_identity_verified</th>\n",
       "      <th>host name</th>\n",
       "      <th>neighbourhood group</th>\n",
       "      <th>neighbourhood</th>\n",
       "      <th>lat</th>\n",
       "      <th>long</th>\n",
       "      <th>country</th>\n",
       "      <th>...</th>\n",
       "      <th>service fee</th>\n",
       "      <th>minimum nights</th>\n",
       "      <th>number of reviews</th>\n",
       "      <th>last review</th>\n",
       "      <th>reviews per month</th>\n",
       "      <th>review rate number</th>\n",
       "      <th>calculated host listings count</th>\n",
       "      <th>availability 365</th>\n",
       "      <th>house_rules</th>\n",
       "      <th>license</th>\n",
       "    </tr>\n",
       "  </thead>\n",
       "  <tbody>\n",
       "    <tr>\n",
       "      <th>82135</th>\n",
       "      <td>46364497</td>\n",
       "      <td>JnK BnB</td>\n",
       "      <td>70280914369</td>\n",
       "      <td>unconfirmed</td>\n",
       "      <td>Josh</td>\n",
       "      <td>Manhattan</td>\n",
       "      <td>Washington Heights</td>\n",
       "      <td>40.85801</td>\n",
       "      <td>-73.93113</td>\n",
       "      <td>United States</td>\n",
       "      <td>...</td>\n",
       "      <td>$149</td>\n",
       "      <td>1.0</td>\n",
       "      <td>0.0</td>\n",
       "      <td>NaN</td>\n",
       "      <td>NaN</td>\n",
       "      <td>3.0</td>\n",
       "      <td>2.0</td>\n",
       "      <td>0.0</td>\n",
       "      <td>NaN</td>\n",
       "      <td>NaN</td>\n",
       "    </tr>\n",
       "    <tr>\n",
       "      <th>12274</th>\n",
       "      <td>7780266</td>\n",
       "      <td>Gorgeous 1BR in Williamsburg church</td>\n",
       "      <td>18774583531</td>\n",
       "      <td>verified</td>\n",
       "      <td>Matthew</td>\n",
       "      <td>Brooklyn</td>\n",
       "      <td>Williamsburg</td>\n",
       "      <td>40.71584</td>\n",
       "      <td>-73.95868</td>\n",
       "      <td>United States</td>\n",
       "      <td>...</td>\n",
       "      <td>$190</td>\n",
       "      <td>2.0</td>\n",
       "      <td>0.0</td>\n",
       "      <td>NaN</td>\n",
       "      <td>NaN</td>\n",
       "      <td>5.0</td>\n",
       "      <td>1.0</td>\n",
       "      <td>165.0</td>\n",
       "      <td>Please Note: This unit was just renovated in A...</td>\n",
       "      <td>NaN</td>\n",
       "    </tr>\n",
       "    <tr>\n",
       "      <th>5867</th>\n",
       "      <td>4241680</td>\n",
       "      <td>The Jewel of Crown Heights- Franklin Ave {NEW}</td>\n",
       "      <td>23267568779</td>\n",
       "      <td>verified</td>\n",
       "      <td>SooKi</td>\n",
       "      <td>Brooklyn</td>\n",
       "      <td>Crown Heights</td>\n",
       "      <td>40.67484</td>\n",
       "      <td>-73.95751</td>\n",
       "      <td>United States</td>\n",
       "      <td>...</td>\n",
       "      <td>$85</td>\n",
       "      <td>2.0</td>\n",
       "      <td>32.0</td>\n",
       "      <td>6/13/2019</td>\n",
       "      <td>0.56</td>\n",
       "      <td>3.0</td>\n",
       "      <td>1.0</td>\n",
       "      <td>93.0</td>\n",
       "      <td>Be considerate of others.  Quiet hours after 1...</td>\n",
       "      <td>NaN</td>\n",
       "    </tr>\n",
       "    <tr>\n",
       "      <th>84166</th>\n",
       "      <td>47486218</td>\n",
       "      <td>Charming bedroom downtown</td>\n",
       "      <td>9836564947</td>\n",
       "      <td>unconfirmed</td>\n",
       "      <td>Dominik</td>\n",
       "      <td>Manhattan</td>\n",
       "      <td>Chinatown</td>\n",
       "      <td>40.71312</td>\n",
       "      <td>-73.99669</td>\n",
       "      <td>United States</td>\n",
       "      <td>...</td>\n",
       "      <td>$204</td>\n",
       "      <td>1.0</td>\n",
       "      <td>5.0</td>\n",
       "      <td>5/19/2017</td>\n",
       "      <td>0.12</td>\n",
       "      <td>1.0</td>\n",
       "      <td>5.0</td>\n",
       "      <td>59.0</td>\n",
       "      <td>Absolutely no smoking in the building, handlin...</td>\n",
       "      <td>NaN</td>\n",
       "    </tr>\n",
       "    <tr>\n",
       "      <th>65940</th>\n",
       "      <td>37419998</td>\n",
       "      <td>Large room in the center of Williamsburg</td>\n",
       "      <td>8117207218</td>\n",
       "      <td>unconfirmed</td>\n",
       "      <td>Mark</td>\n",
       "      <td>Brooklyn</td>\n",
       "      <td>Williamsburg</td>\n",
       "      <td>40.70965</td>\n",
       "      <td>-73.96285</td>\n",
       "      <td>United States</td>\n",
       "      <td>...</td>\n",
       "      <td>$102</td>\n",
       "      <td>1.0</td>\n",
       "      <td>21.0</td>\n",
       "      <td>3/7/2021</td>\n",
       "      <td>1.26</td>\n",
       "      <td>3.0</td>\n",
       "      <td>2.0</td>\n",
       "      <td>7.0</td>\n",
       "      <td>NaN</td>\n",
       "      <td>NaN</td>\n",
       "    </tr>\n",
       "    <tr>\n",
       "      <th>38167</th>\n",
       "      <td>22080970</td>\n",
       "      <td>家 Home (12 mins to NYC)</td>\n",
       "      <td>12697180952</td>\n",
       "      <td>unconfirmed</td>\n",
       "      <td>Anting</td>\n",
       "      <td>Brooklyn</td>\n",
       "      <td>Greenpoint</td>\n",
       "      <td>40.73031</td>\n",
       "      <td>-73.95742</td>\n",
       "      <td>United States</td>\n",
       "      <td>...</td>\n",
       "      <td>$206</td>\n",
       "      <td>1.0</td>\n",
       "      <td>0.0</td>\n",
       "      <td>NaN</td>\n",
       "      <td>NaN</td>\n",
       "      <td>5.0</td>\n",
       "      <td>33.0</td>\n",
       "      <td>364.0</td>\n",
       "      <td>#NAME?</td>\n",
       "      <td>NaN</td>\n",
       "    </tr>\n",
       "    <tr>\n",
       "      <th>67743</th>\n",
       "      <td>38415795</td>\n",
       "      <td>Cute, comfortable, convenient Brooklyn bedroom!</td>\n",
       "      <td>563314286</td>\n",
       "      <td>verified</td>\n",
       "      <td>Rebecca</td>\n",
       "      <td>Brooklyn</td>\n",
       "      <td>Crown Heights</td>\n",
       "      <td>40.67127</td>\n",
       "      <td>-73.94652</td>\n",
       "      <td>United States</td>\n",
       "      <td>...</td>\n",
       "      <td>$21</td>\n",
       "      <td>4.0</td>\n",
       "      <td>81.0</td>\n",
       "      <td>3/14/2020</td>\n",
       "      <td>1.66</td>\n",
       "      <td>3.0</td>\n",
       "      <td>1.0</td>\n",
       "      <td>0.0</td>\n",
       "      <td>NaN</td>\n",
       "      <td>NaN</td>\n",
       "    </tr>\n",
       "    <tr>\n",
       "      <th>42940</th>\n",
       "      <td>24717098</td>\n",
       "      <td>NaN</td>\n",
       "      <td>51599339407</td>\n",
       "      <td>unconfirmed</td>\n",
       "      <td>Mohamed</td>\n",
       "      <td>Brooklyn</td>\n",
       "      <td>Gravesend</td>\n",
       "      <td>40.60245</td>\n",
       "      <td>-73.98140</td>\n",
       "      <td>United States</td>\n",
       "      <td>...</td>\n",
       "      <td>$230</td>\n",
       "      <td>2.0</td>\n",
       "      <td>3.0</td>\n",
       "      <td>5/28/2019</td>\n",
       "      <td>1.03</td>\n",
       "      <td>3.0</td>\n",
       "      <td>1.0</td>\n",
       "      <td>16.0</td>\n",
       "      <td>#NAME?</td>\n",
       "      <td>NaN</td>\n",
       "    </tr>\n",
       "    <tr>\n",
       "      <th>77581</th>\n",
       "      <td>43849322</td>\n",
       "      <td>Cozy apartment in the Norwood section of the b...</td>\n",
       "      <td>28500700488</td>\n",
       "      <td>verified</td>\n",
       "      <td>Maritza</td>\n",
       "      <td>Bronx</td>\n",
       "      <td>Norwood</td>\n",
       "      <td>40.87583</td>\n",
       "      <td>-73.87737</td>\n",
       "      <td>United States</td>\n",
       "      <td>...</td>\n",
       "      <td>$152</td>\n",
       "      <td>1.0</td>\n",
       "      <td>0.0</td>\n",
       "      <td>NaN</td>\n",
       "      <td>NaN</td>\n",
       "      <td>2.0</td>\n",
       "      <td>1.0</td>\n",
       "      <td>0.0</td>\n",
       "      <td>NaN</td>\n",
       "      <td>NaN</td>\n",
       "    </tr>\n",
       "    <tr>\n",
       "      <th>56878</th>\n",
       "      <td>32415055</td>\n",
       "      <td>New York Kosher Place for LE$$ (Ave J , \"Q\" Tr...</td>\n",
       "      <td>58327143461</td>\n",
       "      <td>verified</td>\n",
       "      <td>Uri</td>\n",
       "      <td>Brooklyn</td>\n",
       "      <td>Midwood</td>\n",
       "      <td>40.62441</td>\n",
       "      <td>-73.96072</td>\n",
       "      <td>United States</td>\n",
       "      <td>...</td>\n",
       "      <td>$76</td>\n",
       "      <td>2.0</td>\n",
       "      <td>23.0</td>\n",
       "      <td>1/19/2022</td>\n",
       "      <td>0.66</td>\n",
       "      <td>2.0</td>\n",
       "      <td>3.0</td>\n",
       "      <td>326.0</td>\n",
       "      <td>NaN</td>\n",
       "      <td>NaN</td>\n",
       "    </tr>\n",
       "  </tbody>\n",
       "</table>\n",
       "<p>10 rows × 26 columns</p>\n",
       "</div>"
      ],
      "text/plain": [
       "             id                                               NAME  \\\n",
       "82135  46364497                                            JnK BnB   \n",
       "12274   7780266                Gorgeous 1BR in Williamsburg church   \n",
       "5867    4241680     The Jewel of Crown Heights- Franklin Ave {NEW}   \n",
       "84166  47486218                          Charming bedroom downtown   \n",
       "65940  37419998           Large room in the center of Williamsburg   \n",
       "38167  22080970                            家 Home (12 mins to NYC)   \n",
       "67743  38415795    Cute, comfortable, convenient Brooklyn bedroom!   \n",
       "42940  24717098                                                NaN   \n",
       "77581  43849322  Cozy apartment in the Norwood section of the b...   \n",
       "56878  32415055  New York Kosher Place for LE$$ (Ave J , \"Q\" Tr...   \n",
       "\n",
       "           host id host_identity_verified host name neighbourhood group  \\\n",
       "82135  70280914369            unconfirmed      Josh           Manhattan   \n",
       "12274  18774583531               verified   Matthew            Brooklyn   \n",
       "5867   23267568779               verified     SooKi            Brooklyn   \n",
       "84166   9836564947            unconfirmed   Dominik           Manhattan   \n",
       "65940   8117207218            unconfirmed      Mark            Brooklyn   \n",
       "38167  12697180952            unconfirmed    Anting            Brooklyn   \n",
       "67743    563314286               verified   Rebecca            Brooklyn   \n",
       "42940  51599339407            unconfirmed   Mohamed            Brooklyn   \n",
       "77581  28500700488               verified   Maritza               Bronx   \n",
       "56878  58327143461               verified       Uri            Brooklyn   \n",
       "\n",
       "            neighbourhood       lat      long        country  ... service fee  \\\n",
       "82135  Washington Heights  40.85801 -73.93113  United States  ...       $149    \n",
       "12274        Williamsburg  40.71584 -73.95868  United States  ...       $190    \n",
       "5867        Crown Heights  40.67484 -73.95751  United States  ...        $85    \n",
       "84166           Chinatown  40.71312 -73.99669  United States  ...       $204    \n",
       "65940        Williamsburg  40.70965 -73.96285  United States  ...       $102    \n",
       "38167          Greenpoint  40.73031 -73.95742  United States  ...       $206    \n",
       "67743       Crown Heights  40.67127 -73.94652  United States  ...        $21    \n",
       "42940           Gravesend  40.60245 -73.98140  United States  ...       $230    \n",
       "77581             Norwood  40.87583 -73.87737  United States  ...       $152    \n",
       "56878             Midwood  40.62441 -73.96072  United States  ...        $76    \n",
       "\n",
       "      minimum nights number of reviews last review  reviews per month  \\\n",
       "82135            1.0               0.0         NaN                NaN   \n",
       "12274            2.0               0.0         NaN                NaN   \n",
       "5867             2.0              32.0   6/13/2019               0.56   \n",
       "84166            1.0               5.0   5/19/2017               0.12   \n",
       "65940            1.0              21.0    3/7/2021               1.26   \n",
       "38167            1.0               0.0         NaN                NaN   \n",
       "67743            4.0              81.0   3/14/2020               1.66   \n",
       "42940            2.0               3.0   5/28/2019               1.03   \n",
       "77581            1.0               0.0         NaN                NaN   \n",
       "56878            2.0              23.0   1/19/2022               0.66   \n",
       "\n",
       "      review rate number calculated host listings count  availability 365  \\\n",
       "82135                3.0                            2.0               0.0   \n",
       "12274                5.0                            1.0             165.0   \n",
       "5867                 3.0                            1.0              93.0   \n",
       "84166                1.0                            5.0              59.0   \n",
       "65940                3.0                            2.0               7.0   \n",
       "38167                5.0                           33.0             364.0   \n",
       "67743                3.0                            1.0               0.0   \n",
       "42940                3.0                            1.0              16.0   \n",
       "77581                2.0                            1.0               0.0   \n",
       "56878                2.0                            3.0             326.0   \n",
       "\n",
       "                                             house_rules license  \n",
       "82135                                                NaN     NaN  \n",
       "12274  Please Note: This unit was just renovated in A...     NaN  \n",
       "5867   Be considerate of others.  Quiet hours after 1...     NaN  \n",
       "84166  Absolutely no smoking in the building, handlin...     NaN  \n",
       "65940                                                NaN     NaN  \n",
       "38167                                             #NAME?     NaN  \n",
       "67743                                                NaN     NaN  \n",
       "42940                                             #NAME?     NaN  \n",
       "77581                                                NaN     NaN  \n",
       "56878                                                NaN     NaN  \n",
       "\n",
       "[10 rows x 26 columns]"
      ]
     },
     "execution_count": 3,
     "metadata": {},
     "output_type": "execute_result"
    }
   ],
   "source": [
    "# create a copy of original dataframe\n",
    "df=hotel.copy()\n",
    "df.sample(10)"
   ]
  },
  {
   "cell_type": "code",
   "execution_count": 4,
   "id": "6fe228f5-6565-4809-9d75-9d37905ab057",
   "metadata": {},
   "outputs": [
    {
     "data": {
      "text/plain": [
       "Index(['id', 'NAME', 'host id', 'host_identity_verified', 'host name',\n",
       "       'neighbourhood group', 'neighbourhood', 'lat', 'long', 'country',\n",
       "       'country code', 'instant_bookable', 'cancellation_policy', 'room type',\n",
       "       'Construction year', 'price', 'service fee', 'minimum nights',\n",
       "       'number of reviews', 'last review', 'reviews per month',\n",
       "       'review rate number', 'calculated host listings count',\n",
       "       'availability 365', 'house_rules', 'license'],\n",
       "      dtype='object')"
      ]
     },
     "execution_count": 4,
     "metadata": {},
     "output_type": "execute_result"
    }
   ],
   "source": [
    "# checking columns \n",
    "df.columns"
   ]
  },
  {
   "cell_type": "code",
   "execution_count": 5,
   "id": "92e9c4e0-3bbb-4ca1-9d73-cc4c1d93a593",
   "metadata": {},
   "outputs": [],
   "source": [
    "# changing column in proper format\n",
    "df.columns=df.columns.str.replace(\" \",\"_\").str.lower()"
   ]
  },
  {
   "cell_type": "code",
   "execution_count": 6,
   "id": "a1ff0fbb-e288-4ec4-8791-54d41b91e081",
   "metadata": {},
   "outputs": [
    {
     "data": {
      "text/html": [
       "<div>\n",
       "<style scoped>\n",
       "    .dataframe tbody tr th:only-of-type {\n",
       "        vertical-align: middle;\n",
       "    }\n",
       "\n",
       "    .dataframe tbody tr th {\n",
       "        vertical-align: top;\n",
       "    }\n",
       "\n",
       "    .dataframe thead th {\n",
       "        text-align: right;\n",
       "    }\n",
       "</style>\n",
       "<table border=\"1\" class=\"dataframe\">\n",
       "  <thead>\n",
       "    <tr style=\"text-align: right;\">\n",
       "      <th></th>\n",
       "      <th>id</th>\n",
       "      <th>name</th>\n",
       "      <th>host_id</th>\n",
       "      <th>host_identity_verified</th>\n",
       "      <th>host_name</th>\n",
       "      <th>neighbourhood_group</th>\n",
       "      <th>neighbourhood</th>\n",
       "      <th>lat</th>\n",
       "      <th>long</th>\n",
       "      <th>country</th>\n",
       "      <th>...</th>\n",
       "      <th>service_fee</th>\n",
       "      <th>minimum_nights</th>\n",
       "      <th>number_of_reviews</th>\n",
       "      <th>last_review</th>\n",
       "      <th>reviews_per_month</th>\n",
       "      <th>review_rate_number</th>\n",
       "      <th>calculated_host_listings_count</th>\n",
       "      <th>availability_365</th>\n",
       "      <th>house_rules</th>\n",
       "      <th>license</th>\n",
       "    </tr>\n",
       "  </thead>\n",
       "  <tbody>\n",
       "    <tr>\n",
       "      <th>0</th>\n",
       "      <td>1001254</td>\n",
       "      <td>Clean &amp; quiet apt home by the park</td>\n",
       "      <td>80014485718</td>\n",
       "      <td>unconfirmed</td>\n",
       "      <td>Madaline</td>\n",
       "      <td>Brooklyn</td>\n",
       "      <td>Kensington</td>\n",
       "      <td>40.64749</td>\n",
       "      <td>-73.97237</td>\n",
       "      <td>United States</td>\n",
       "      <td>...</td>\n",
       "      <td>$193</td>\n",
       "      <td>10.0</td>\n",
       "      <td>9.0</td>\n",
       "      <td>10/19/2021</td>\n",
       "      <td>0.21</td>\n",
       "      <td>4.0</td>\n",
       "      <td>6.0</td>\n",
       "      <td>286.0</td>\n",
       "      <td>Clean up and treat the home the way you'd like...</td>\n",
       "      <td>NaN</td>\n",
       "    </tr>\n",
       "    <tr>\n",
       "      <th>1</th>\n",
       "      <td>1002102</td>\n",
       "      <td>Skylit Midtown Castle</td>\n",
       "      <td>52335172823</td>\n",
       "      <td>verified</td>\n",
       "      <td>Jenna</td>\n",
       "      <td>Manhattan</td>\n",
       "      <td>Midtown</td>\n",
       "      <td>40.75362</td>\n",
       "      <td>-73.98377</td>\n",
       "      <td>United States</td>\n",
       "      <td>...</td>\n",
       "      <td>$28</td>\n",
       "      <td>30.0</td>\n",
       "      <td>45.0</td>\n",
       "      <td>5/21/2022</td>\n",
       "      <td>0.38</td>\n",
       "      <td>4.0</td>\n",
       "      <td>2.0</td>\n",
       "      <td>228.0</td>\n",
       "      <td>Pet friendly but please confirm with me if the...</td>\n",
       "      <td>NaN</td>\n",
       "    </tr>\n",
       "    <tr>\n",
       "      <th>2</th>\n",
       "      <td>1002403</td>\n",
       "      <td>THE VILLAGE OF HARLEM....NEW YORK !</td>\n",
       "      <td>78829239556</td>\n",
       "      <td>NaN</td>\n",
       "      <td>Elise</td>\n",
       "      <td>Manhattan</td>\n",
       "      <td>Harlem</td>\n",
       "      <td>40.80902</td>\n",
       "      <td>-73.94190</td>\n",
       "      <td>United States</td>\n",
       "      <td>...</td>\n",
       "      <td>$124</td>\n",
       "      <td>3.0</td>\n",
       "      <td>0.0</td>\n",
       "      <td>NaN</td>\n",
       "      <td>NaN</td>\n",
       "      <td>5.0</td>\n",
       "      <td>1.0</td>\n",
       "      <td>352.0</td>\n",
       "      <td>I encourage you to use my kitchen, cooking and...</td>\n",
       "      <td>NaN</td>\n",
       "    </tr>\n",
       "    <tr>\n",
       "      <th>3</th>\n",
       "      <td>1002755</td>\n",
       "      <td>NaN</td>\n",
       "      <td>85098326012</td>\n",
       "      <td>unconfirmed</td>\n",
       "      <td>Garry</td>\n",
       "      <td>Brooklyn</td>\n",
       "      <td>Clinton Hill</td>\n",
       "      <td>40.68514</td>\n",
       "      <td>-73.95976</td>\n",
       "      <td>United States</td>\n",
       "      <td>...</td>\n",
       "      <td>$74</td>\n",
       "      <td>30.0</td>\n",
       "      <td>270.0</td>\n",
       "      <td>7/5/2019</td>\n",
       "      <td>4.64</td>\n",
       "      <td>4.0</td>\n",
       "      <td>1.0</td>\n",
       "      <td>322.0</td>\n",
       "      <td>NaN</td>\n",
       "      <td>NaN</td>\n",
       "    </tr>\n",
       "    <tr>\n",
       "      <th>4</th>\n",
       "      <td>1003689</td>\n",
       "      <td>Entire Apt: Spacious Studio/Loft by central park</td>\n",
       "      <td>92037596077</td>\n",
       "      <td>verified</td>\n",
       "      <td>Lyndon</td>\n",
       "      <td>Manhattan</td>\n",
       "      <td>East Harlem</td>\n",
       "      <td>40.79851</td>\n",
       "      <td>-73.94399</td>\n",
       "      <td>United States</td>\n",
       "      <td>...</td>\n",
       "      <td>$41</td>\n",
       "      <td>10.0</td>\n",
       "      <td>9.0</td>\n",
       "      <td>11/19/2018</td>\n",
       "      <td>0.10</td>\n",
       "      <td>3.0</td>\n",
       "      <td>1.0</td>\n",
       "      <td>289.0</td>\n",
       "      <td>Please no smoking in the house, porch or on th...</td>\n",
       "      <td>NaN</td>\n",
       "    </tr>\n",
       "  </tbody>\n",
       "</table>\n",
       "<p>5 rows × 26 columns</p>\n",
       "</div>"
      ],
      "text/plain": [
       "        id                                              name      host_id  \\\n",
       "0  1001254                Clean & quiet apt home by the park  80014485718   \n",
       "1  1002102                             Skylit Midtown Castle  52335172823   \n",
       "2  1002403               THE VILLAGE OF HARLEM....NEW YORK !  78829239556   \n",
       "3  1002755                                               NaN  85098326012   \n",
       "4  1003689  Entire Apt: Spacious Studio/Loft by central park  92037596077   \n",
       "\n",
       "  host_identity_verified host_name neighbourhood_group neighbourhood  \\\n",
       "0            unconfirmed  Madaline            Brooklyn    Kensington   \n",
       "1               verified     Jenna           Manhattan       Midtown   \n",
       "2                    NaN     Elise           Manhattan        Harlem   \n",
       "3            unconfirmed     Garry            Brooklyn  Clinton Hill   \n",
       "4               verified    Lyndon           Manhattan   East Harlem   \n",
       "\n",
       "        lat      long        country  ... service_fee minimum_nights  \\\n",
       "0  40.64749 -73.97237  United States  ...       $193            10.0   \n",
       "1  40.75362 -73.98377  United States  ...        $28            30.0   \n",
       "2  40.80902 -73.94190  United States  ...       $124             3.0   \n",
       "3  40.68514 -73.95976  United States  ...        $74            30.0   \n",
       "4  40.79851 -73.94399  United States  ...        $41            10.0   \n",
       "\n",
       "  number_of_reviews last_review  reviews_per_month review_rate_number  \\\n",
       "0               9.0  10/19/2021               0.21                4.0   \n",
       "1              45.0   5/21/2022               0.38                4.0   \n",
       "2               0.0         NaN                NaN                5.0   \n",
       "3             270.0    7/5/2019               4.64                4.0   \n",
       "4               9.0  11/19/2018               0.10                3.0   \n",
       "\n",
       "  calculated_host_listings_count  availability_365  \\\n",
       "0                            6.0             286.0   \n",
       "1                            2.0             228.0   \n",
       "2                            1.0             352.0   \n",
       "3                            1.0             322.0   \n",
       "4                            1.0             289.0   \n",
       "\n",
       "                                         house_rules license  \n",
       "0  Clean up and treat the home the way you'd like...     NaN  \n",
       "1  Pet friendly but please confirm with me if the...     NaN  \n",
       "2  I encourage you to use my kitchen, cooking and...     NaN  \n",
       "3                                                NaN     NaN  \n",
       "4  Please no smoking in the house, porch or on th...     NaN  \n",
       "\n",
       "[5 rows x 26 columns]"
      ]
     },
     "execution_count": 6,
     "metadata": {},
     "output_type": "execute_result"
    }
   ],
   "source": [
    "df.head(5)"
   ]
  },
  {
   "cell_type": "code",
   "execution_count": 7,
   "id": "eaa821b2-6d7e-49c1-b6b5-d416daf5953a",
   "metadata": {},
   "outputs": [
    {
     "name": "stdout",
     "output_type": "stream",
     "text": [
      "<class 'pandas.core.frame.DataFrame'>\n",
      "RangeIndex: 102599 entries, 0 to 102598\n",
      "Data columns (total 26 columns):\n",
      " #   Column                          Non-Null Count   Dtype  \n",
      "---  ------                          --------------   -----  \n",
      " 0   id                              102599 non-null  int64  \n",
      " 1   name                            102349 non-null  object \n",
      " 2   host_id                         102599 non-null  int64  \n",
      " 3   host_identity_verified          102310 non-null  object \n",
      " 4   host_name                       102193 non-null  object \n",
      " 5   neighbourhood_group             102570 non-null  object \n",
      " 6   neighbourhood                   102583 non-null  object \n",
      " 7   lat                             102591 non-null  float64\n",
      " 8   long                            102591 non-null  float64\n",
      " 9   country                         102067 non-null  object \n",
      " 10  country_code                    102468 non-null  object \n",
      " 11  instant_bookable                102494 non-null  object \n",
      " 12  cancellation_policy             102523 non-null  object \n",
      " 13  room_type                       102599 non-null  object \n",
      " 14  construction_year               102385 non-null  float64\n",
      " 15  price                           102352 non-null  object \n",
      " 16  service_fee                     102326 non-null  object \n",
      " 17  minimum_nights                  102190 non-null  float64\n",
      " 18  number_of_reviews               102416 non-null  float64\n",
      " 19  last_review                     86706 non-null   object \n",
      " 20  reviews_per_month               86720 non-null   float64\n",
      " 21  review_rate_number              102273 non-null  float64\n",
      " 22  calculated_host_listings_count  102280 non-null  float64\n",
      " 23  availability_365                102151 non-null  float64\n",
      " 24  house_rules                     50468 non-null   object \n",
      " 25  license                         2 non-null       object \n",
      "dtypes: float64(9), int64(2), object(15)\n",
      "memory usage: 20.4+ MB\n"
     ]
    }
   ],
   "source": [
    "df.info()"
   ]
  },
  {
   "cell_type": "code",
   "execution_count": 8,
   "id": "230a58b5-e7ff-463e-a5db-41cca6f98a4e",
   "metadata": {},
   "outputs": [
    {
     "data": {
      "text/plain": [
       "id                                     0\n",
       "name                                 250\n",
       "host_id                                0\n",
       "host_identity_verified               289\n",
       "host_name                            406\n",
       "neighbourhood_group                   29\n",
       "neighbourhood                         16\n",
       "lat                                    8\n",
       "long                                   8\n",
       "country                              532\n",
       "country_code                         131\n",
       "instant_bookable                     105\n",
       "cancellation_policy                   76\n",
       "room_type                              0\n",
       "construction_year                    214\n",
       "price                                247\n",
       "service_fee                          273\n",
       "minimum_nights                       409\n",
       "number_of_reviews                    183\n",
       "last_review                        15893\n",
       "reviews_per_month                  15879\n",
       "review_rate_number                   326\n",
       "calculated_host_listings_count       319\n",
       "availability_365                     448\n",
       "house_rules                        52131\n",
       "license                           102597\n",
       "dtype: int64"
      ]
     },
     "execution_count": 8,
     "metadata": {},
     "output_type": "execute_result"
    }
   ],
   "source": [
    "# checking null values \n",
    "df.isnull().sum()"
   ]
  },
  {
   "cell_type": "code",
   "execution_count": 9,
   "id": "1550d989-c077-4e29-8568-133ad98d1aec",
   "metadata": {},
   "outputs": [],
   "source": [
    "# removing null values from  the name column\n",
    "df.dropna(subset=['name'],axis=0,inplace=True)"
   ]
  },
  {
   "cell_type": "code",
   "execution_count": 10,
   "id": "de000702-2536-44f8-a0d0-c77e9e530692",
   "metadata": {},
   "outputs": [
    {
     "data": {
      "text/plain": [
       "np.int64(0)"
      ]
     },
     "execution_count": 10,
     "metadata": {},
     "output_type": "execute_result"
    }
   ],
   "source": [
    "# checking the null values in name column \n",
    "df['name'].isnull().sum()"
   ]
  },
  {
   "cell_type": "code",
   "execution_count": 11,
   "id": "1049698c-d684-4c69-8d3b-4fb1bc1f428a",
   "metadata": {},
   "outputs": [
    {
     "data": {
      "text/plain": [
       "array(['unconfirmed', 'verified', nan], dtype=object)"
      ]
     },
     "execution_count": 11,
     "metadata": {},
     "output_type": "execute_result"
    }
   ],
   "source": [
    "# checking the unique values in host_identity_verified column\n",
    "df['host_identity_verified'].unique()"
   ]
  },
  {
   "cell_type": "code",
   "execution_count": 12,
   "id": "59f7ed0d-e439-4376-b9b9-c1149daf0944",
   "metadata": {},
   "outputs": [],
   "source": [
    "# replacing the nan values in host_identity_verified with unconfirmed\n",
    "df['host_identity_verified']=df['host_identity_verified'].fillna('unconfirmed')"
   ]
  },
  {
   "cell_type": "code",
   "execution_count": 13,
   "id": "d4a19d1e-c124-4210-b5a2-5af614580862",
   "metadata": {},
   "outputs": [
    {
     "data": {
      "text/plain": [
       "np.int64(0)"
      ]
     },
     "execution_count": 13,
     "metadata": {},
     "output_type": "execute_result"
    }
   ],
   "source": [
    "# checking the null values in host_identity_verified column \n",
    "df['host_identity_verified'].isnull().sum()"
   ]
  },
  {
   "cell_type": "code",
   "execution_count": 14,
   "id": "86f6f836-9034-4f3d-b6a9-9416034f70e4",
   "metadata": {},
   "outputs": [],
   "source": [
    "# removing null values from the host_name column\n",
    "df.dropna(subset=\"host_name\",axis=0,inplace=True)"
   ]
  },
  {
   "cell_type": "code",
   "execution_count": 15,
   "id": "ccb6ce75-a6f6-4817-8336-f7f13092abbc",
   "metadata": {},
   "outputs": [
    {
     "data": {
      "text/plain": [
       "np.int64(0)"
      ]
     },
     "execution_count": 15,
     "metadata": {},
     "output_type": "execute_result"
    }
   ],
   "source": [
    "# checking the null values in host_name column\n",
    "df['host_name'].isnull().sum()"
   ]
  },
  {
   "cell_type": "code",
   "execution_count": 16,
   "id": "e755cd24-b7a6-4778-9f62-841fb36b6591",
   "metadata": {},
   "outputs": [],
   "source": [
    "# now removing the null values from neighbourhood , lat, long column\n",
    "df.dropna(subset=[\"neighbourhood\",'lat','long'],axis=0,inplace=True)"
   ]
  },
  {
   "cell_type": "code",
   "execution_count": 17,
   "id": "9e793fd7-fc71-41b8-9de6-cde79ddafc4a",
   "metadata": {},
   "outputs": [],
   "source": [
    "# deleting country, country_code columns as ths data is of new york only so we don't reqired country column for analysis\n",
    "df.drop(['country','country_code'],axis=1,inplace=True)"
   ]
  },
  {
   "cell_type": "code",
   "execution_count": 18,
   "id": "b469d487-a0e1-4d64-bed5-0b2198bfca65",
   "metadata": {},
   "outputs": [
    {
     "data": {
      "text/plain": [
       "id                                     0\n",
       "name                                   0\n",
       "host_id                                0\n",
       "host_identity_verified                 0\n",
       "host_name                              0\n",
       "neighbourhood_group                   26\n",
       "neighbourhood                          0\n",
       "lat                                    0\n",
       "long                                   0\n",
       "instant_bookable                      94\n",
       "cancellation_policy                   68\n",
       "room_type                              0\n",
       "construction_year                    199\n",
       "price                                238\n",
       "service_fee                          268\n",
       "minimum_nights                       402\n",
       "number_of_reviews                    182\n",
       "last_review                        15776\n",
       "reviews_per_month                  15762\n",
       "review_rate_number                   314\n",
       "calculated_host_listings_count       318\n",
       "availability_365                     419\n",
       "house_rules                        51859\n",
       "license                           101923\n",
       "dtype: int64"
      ]
     },
     "execution_count": 18,
     "metadata": {},
     "output_type": "execute_result"
    }
   ],
   "source": [
    "# checking null values again\n",
    "df.isnull().sum()"
   ]
  },
  {
   "cell_type": "code",
   "execution_count": 19,
   "id": "7fd28135-e840-4c8c-91e1-2424e34c49d4",
   "metadata": {},
   "outputs": [],
   "source": [
    "# replacing values in instant_bookable column\n",
    "df['instant_bookable']=df['instant_bookable'].fillna(\"Unconfirmed\")"
   ]
  },
  {
   "cell_type": "code",
   "execution_count": 20,
   "id": "fe8f90a0-1af4-4eba-a8bf-1d298596e67f",
   "metadata": {},
   "outputs": [],
   "source": [
    "# replacing the true with yes and false with no in instant_bookable column\n",
    "df['instant_bookable']=df['instant_bookable'].astype(str).replace({\"True\":\"Yes\", 'False': \"No\"})"
   ]
  },
  {
   "cell_type": "code",
   "execution_count": 21,
   "id": "463edef9-6003-41d8-b806-6a6ee939b9d8",
   "metadata": {},
   "outputs": [
    {
     "data": {
      "text/plain": [
       "np.int64(0)"
      ]
     },
     "execution_count": 21,
     "metadata": {},
     "output_type": "execute_result"
    }
   ],
   "source": [
    "# now checking for null values in instant_bookable \n",
    "df['instant_bookable'].isnull().sum()"
   ]
  },
  {
   "cell_type": "code",
   "execution_count": 22,
   "id": "3e730623-9786-41d5-bb82-87a611bb5039",
   "metadata": {},
   "outputs": [],
   "source": [
    "# Replacing nan values in cancellation_policy column\n",
    "df['cancellation_policy']=df['cancellation_policy'].fillna(\"unknown\")"
   ]
  },
  {
   "cell_type": "code",
   "execution_count": 23,
   "id": "0f60354e-1f58-410f-8bdb-6dc22882c3c7",
   "metadata": {},
   "outputs": [
    {
     "data": {
      "text/plain": [
       "np.int64(0)"
      ]
     },
     "execution_count": 23,
     "metadata": {},
     "output_type": "execute_result"
    }
   ],
   "source": [
    "# now checking for null values in cancellation_policy \n",
    "df['cancellation_policy'].isnull().sum()"
   ]
  },
  {
   "cell_type": "code",
   "execution_count": 24,
   "id": "428d64da-a5b0-471b-a38a-715b2e4c458a",
   "metadata": {},
   "outputs": [
    {
     "data": {
      "text/plain": [
       "id                                     0\n",
       "name                                   0\n",
       "host_id                                0\n",
       "host_identity_verified                 0\n",
       "host_name                              0\n",
       "neighbourhood_group                   26\n",
       "neighbourhood                          0\n",
       "lat                                    0\n",
       "long                                   0\n",
       "instant_bookable                       0\n",
       "cancellation_policy                    0\n",
       "room_type                              0\n",
       "construction_year                    199\n",
       "price                                238\n",
       "service_fee                          268\n",
       "minimum_nights                       402\n",
       "number_of_reviews                    182\n",
       "last_review                        15776\n",
       "reviews_per_month                  15762\n",
       "review_rate_number                   314\n",
       "calculated_host_listings_count       318\n",
       "availability_365                     419\n",
       "house_rules                        51859\n",
       "license                           101923\n",
       "dtype: int64"
      ]
     },
     "execution_count": 24,
     "metadata": {},
     "output_type": "execute_result"
    }
   ],
   "source": [
    "# checking null values again\n",
    "df.isnull().sum()"
   ]
  },
  {
   "cell_type": "code",
   "execution_count": 25,
   "id": "8dd624f0-e3f5-42d0-aeb6-f676a6f0b6a2",
   "metadata": {},
   "outputs": [],
   "source": [
    "# removing null values from the construction_year column\n",
    "df.dropna(subset=\"construction_year\",axis=0,inplace=True)"
   ]
  },
  {
   "cell_type": "code",
   "execution_count": 26,
   "id": "6a7d6ded-1721-45ef-af9e-bfaa583c4aac",
   "metadata": {},
   "outputs": [
    {
     "data": {
      "text/plain": [
       "np.int64(0)"
      ]
     },
     "execution_count": 26,
     "metadata": {},
     "output_type": "execute_result"
    }
   ],
   "source": [
    "# now checking for null values in construction_year \n",
    "df['construction_year'].isnull().sum()"
   ]
  },
  {
   "cell_type": "code",
   "execution_count": 27,
   "id": "787bade2-0d53-4254-b4a9-30a8c9481146",
   "metadata": {},
   "outputs": [],
   "source": [
    "# changing type of construction_year column\n",
    "df['construction_year']=df['construction_year'].astype(np.int16)"
   ]
  },
  {
   "cell_type": "code",
   "execution_count": 28,
   "id": "75790c0a-86fd-439c-b5d1-39c967d1771a",
   "metadata": {},
   "outputs": [],
   "source": [
    "# removing the dollare symbol from price column\n",
    "df['price']=df['price'].str.lstrip('$')"
   ]
  },
  {
   "cell_type": "code",
   "execution_count": 29,
   "id": "34eb56ad-1432-4d21-a1d0-c984a91c1a9c",
   "metadata": {},
   "outputs": [],
   "source": [
    "# changing the dtype of price column\n",
    "df['price'] = pd.to_numeric(df['price'], errors='coerce').astype(np.float32)"
   ]
  },
  {
   "cell_type": "code",
   "execution_count": 30,
   "id": "dacd3d27-64a8-4646-a011-c2264be70e61",
   "metadata": {},
   "outputs": [],
   "source": [
    "# removing null values from the price column using mean of price column and again changing the dtype to int16\n",
    "df['price']=df['price'].fillna(df['price'].mean()).astype(np.int16)"
   ]
  },
  {
   "cell_type": "code",
   "execution_count": 31,
   "id": "a9245130-ed2f-48f5-a5ad-03695f0c6255",
   "metadata": {},
   "outputs": [
    {
     "data": {
      "text/plain": [
       "np.int64(0)"
      ]
     },
     "execution_count": 31,
     "metadata": {},
     "output_type": "execute_result"
    }
   ],
   "source": [
    "# now checking for null values in price \n",
    "df['price'].isnull().sum()"
   ]
  },
  {
   "cell_type": "code",
   "execution_count": 32,
   "id": "0bff0858-b8aa-4c2d-ba28-28e805217fa6",
   "metadata": {},
   "outputs": [
    {
     "data": {
      "text/plain": [
       "id                                     0\n",
       "name                                   0\n",
       "host_id                                0\n",
       "host_identity_verified                 0\n",
       "host_name                              0\n",
       "neighbourhood_group                   23\n",
       "neighbourhood                          0\n",
       "lat                                    0\n",
       "long                                   0\n",
       "instant_bookable                       0\n",
       "cancellation_policy                    0\n",
       "room_type                              0\n",
       "construction_year                      0\n",
       "price                                  0\n",
       "service_fee                          262\n",
       "minimum_nights                       390\n",
       "number_of_reviews                    181\n",
       "last_review                        15749\n",
       "reviews_per_month                  15740\n",
       "review_rate_number                   308\n",
       "calculated_host_listings_count       316\n",
       "availability_365                     406\n",
       "house_rules                        51806\n",
       "license                           101724\n",
       "dtype: int64"
      ]
     },
     "execution_count": 32,
     "metadata": {},
     "output_type": "execute_result"
    }
   ],
   "source": [
    "# checking null values again\n",
    "df.isnull().sum()"
   ]
  },
  {
   "cell_type": "code",
   "execution_count": 33,
   "id": "2a8b121a-c95a-49a4-8e81-10e95f450182",
   "metadata": {},
   "outputs": [],
   "source": [
    "# removing the dollare symbol from service_fee column\n",
    "df['service_fee']=df['service_fee'].str.lstrip('$')"
   ]
  },
  {
   "cell_type": "code",
   "execution_count": 34,
   "id": "ea1a68e8-8848-471f-aa4b-360592b56aec",
   "metadata": {},
   "outputs": [],
   "source": [
    "# changing the dtype of service_fee column\n",
    "df['service_fee'] = pd.to_numeric(df['service_fee'], errors='coerce').astype(np.float32)"
   ]
  },
  {
   "cell_type": "code",
   "execution_count": 35,
   "id": "772f5b18-0ddf-4cce-a298-d7cf23d3296b",
   "metadata": {},
   "outputs": [],
   "source": [
    "# removing null values from the service_fee column using mean of service_fee column and again changing the dtype to int16\n",
    "df['service_fee']=df['service_fee'].fillna(df['service_fee'].mean()).astype(np.int16)"
   ]
  },
  {
   "cell_type": "code",
   "execution_count": 36,
   "id": "03c8dbdf-ba41-462b-b3b9-cb03ae6c5174",
   "metadata": {},
   "outputs": [
    {
     "data": {
      "text/plain": [
       "np.int64(0)"
      ]
     },
     "execution_count": 36,
     "metadata": {},
     "output_type": "execute_result"
    }
   ],
   "source": [
    "# now checking for null values in service_fee \n",
    "df['service_fee'].isnull().sum()"
   ]
  },
  {
   "cell_type": "code",
   "execution_count": 37,
   "id": "e6aa190a-1aaa-4ae3-8159-b2a4ca536e8c",
   "metadata": {},
   "outputs": [],
   "source": [
    "# dropping the rows in which price is less than service_fee \n",
    "df.drop(index=df[df['price']<df['service_fee']].index,inplace=True)"
   ]
  },
  {
   "cell_type": "code",
   "execution_count": 38,
   "id": "71c3a75d-0399-4541-a1af-3c620fc9f848",
   "metadata": {},
   "outputs": [],
   "source": [
    "# now changing column names\n",
    "df.rename(columns={'price':\"price_in_$\", 'service_fee' : 'service_fee_in_$'}, inplace=True)"
   ]
  },
  {
   "cell_type": "code",
   "execution_count": 39,
   "id": "2bb90036-7e21-4942-bf71-b8a33247bad3",
   "metadata": {},
   "outputs": [
    {
     "data": {
      "text/plain": [
       "id                                     0\n",
       "name                                   0\n",
       "host_id                                0\n",
       "host_identity_verified                 0\n",
       "host_name                              0\n",
       "neighbourhood_group                   23\n",
       "neighbourhood                          0\n",
       "lat                                    0\n",
       "long                                   0\n",
       "instant_bookable                       0\n",
       "cancellation_policy                    0\n",
       "room_type                              0\n",
       "construction_year                      0\n",
       "price_in_$                             0\n",
       "service_fee_in_$                       0\n",
       "minimum_nights                       390\n",
       "number_of_reviews                    181\n",
       "last_review                        15745\n",
       "reviews_per_month                  15736\n",
       "review_rate_number                   308\n",
       "calculated_host_listings_count       316\n",
       "availability_365                     406\n",
       "house_rules                        51800\n",
       "license                           101711\n",
       "dtype: int64"
      ]
     },
     "execution_count": 39,
     "metadata": {},
     "output_type": "execute_result"
    }
   ],
   "source": [
    "# checking null values again\n",
    "df.isnull().sum()"
   ]
  },
  {
   "cell_type": "code",
   "execution_count": 40,
   "id": "a1ab6d68-d432-4df5-8c1b-3601cbb9a0dd",
   "metadata": {},
   "outputs": [],
   "source": [
    "# filling the missing values in minimum_nights with mean of minimum_nights column and changing the dtype of column\n",
    "df['minimum_nights']=df['minimum_nights'].fillna(df['minimum_nights'].mean()).round().astype(np.int8)"
   ]
  },
  {
   "cell_type": "code",
   "execution_count": 41,
   "id": "28f9b255-ec0c-4ffe-94c6-2b3df5dc5155",
   "metadata": {},
   "outputs": [
    {
     "data": {
      "text/html": [
       "<div>\n",
       "<style scoped>\n",
       "    .dataframe tbody tr th:only-of-type {\n",
       "        vertical-align: middle;\n",
       "    }\n",
       "\n",
       "    .dataframe tbody tr th {\n",
       "        vertical-align: top;\n",
       "    }\n",
       "\n",
       "    .dataframe thead th {\n",
       "        text-align: right;\n",
       "    }\n",
       "</style>\n",
       "<table border=\"1\" class=\"dataframe\">\n",
       "  <thead>\n",
       "    <tr style=\"text-align: right;\">\n",
       "      <th></th>\n",
       "      <th>id</th>\n",
       "      <th>name</th>\n",
       "      <th>host_id</th>\n",
       "      <th>host_identity_verified</th>\n",
       "      <th>host_name</th>\n",
       "      <th>neighbourhood_group</th>\n",
       "      <th>neighbourhood</th>\n",
       "      <th>lat</th>\n",
       "      <th>long</th>\n",
       "      <th>instant_bookable</th>\n",
       "      <th>...</th>\n",
       "      <th>service_fee_in_$</th>\n",
       "      <th>minimum_nights</th>\n",
       "      <th>number_of_reviews</th>\n",
       "      <th>last_review</th>\n",
       "      <th>reviews_per_month</th>\n",
       "      <th>review_rate_number</th>\n",
       "      <th>calculated_host_listings_count</th>\n",
       "      <th>availability_365</th>\n",
       "      <th>house_rules</th>\n",
       "      <th>license</th>\n",
       "    </tr>\n",
       "  </thead>\n",
       "  <tbody>\n",
       "    <tr>\n",
       "      <th>66438</th>\n",
       "      <td>37695043</td>\n",
       "      <td>Relaxing Queen Bed Studio w/Fast WIFI &amp; Elevator</td>\n",
       "      <td>50067575281</td>\n",
       "      <td>unconfirmed</td>\n",
       "      <td>Vincent</td>\n",
       "      <td>Manhattan</td>\n",
       "      <td>Upper East Side</td>\n",
       "      <td>40.77901</td>\n",
       "      <td>-73.94789</td>\n",
       "      <td>No</td>\n",
       "      <td>...</td>\n",
       "      <td>112</td>\n",
       "      <td>2</td>\n",
       "      <td>12.0</td>\n",
       "      <td>11/23/2020</td>\n",
       "      <td>0.59</td>\n",
       "      <td>5.0</td>\n",
       "      <td>1.0</td>\n",
       "      <td>0.0</td>\n",
       "      <td>NaN</td>\n",
       "      <td>NaN</td>\n",
       "    </tr>\n",
       "    <tr>\n",
       "      <th>88854</th>\n",
       "      <td>50075400</td>\n",
       "      <td>Spacious, Clean and Comfy 2 Bedroom</td>\n",
       "      <td>72326113442</td>\n",
       "      <td>verified</td>\n",
       "      <td>Alex</td>\n",
       "      <td>Brooklyn</td>\n",
       "      <td>Bedford-Stuyvesant</td>\n",
       "      <td>40.68385</td>\n",
       "      <td>-73.95230</td>\n",
       "      <td>Yes</td>\n",
       "      <td>...</td>\n",
       "      <td>30</td>\n",
       "      <td>2</td>\n",
       "      <td>66.0</td>\n",
       "      <td>6/30/2019</td>\n",
       "      <td>2.01</td>\n",
       "      <td>2.0</td>\n",
       "      <td>2.0</td>\n",
       "      <td>55.0</td>\n",
       "      <td>Be respectful of our neighbors - No loud music...</td>\n",
       "      <td>NaN</td>\n",
       "    </tr>\n",
       "    <tr>\n",
       "      <th>8384</th>\n",
       "      <td>5631819</td>\n",
       "      <td>Magical Oasis in Bushwick! 20 min to City</td>\n",
       "      <td>52755950330</td>\n",
       "      <td>unconfirmed</td>\n",
       "      <td>Leah</td>\n",
       "      <td>Brooklyn</td>\n",
       "      <td>Bushwick</td>\n",
       "      <td>40.69710</td>\n",
       "      <td>-73.92046</td>\n",
       "      <td>Yes</td>\n",
       "      <td>...</td>\n",
       "      <td>106</td>\n",
       "      <td>2</td>\n",
       "      <td>56.0</td>\n",
       "      <td>7/4/2019</td>\n",
       "      <td>1.11</td>\n",
       "      <td>1.0</td>\n",
       "      <td>1.0</td>\n",
       "      <td>238.0</td>\n",
       "      <td>Please be respectful of our neighbors and keep...</td>\n",
       "      <td>NaN</td>\n",
       "    </tr>\n",
       "    <tr>\n",
       "      <th>28637</th>\n",
       "      <td>16817551</td>\n",
       "      <td>Adorable Hamilton Heights Apartment</td>\n",
       "      <td>42487327053</td>\n",
       "      <td>unconfirmed</td>\n",
       "      <td>Jessica</td>\n",
       "      <td>Manhattan</td>\n",
       "      <td>Harlem</td>\n",
       "      <td>40.82434</td>\n",
       "      <td>-73.95066</td>\n",
       "      <td>No</td>\n",
       "      <td>...</td>\n",
       "      <td>15</td>\n",
       "      <td>3</td>\n",
       "      <td>14.0</td>\n",
       "      <td>3/9/2019</td>\n",
       "      <td>0.73</td>\n",
       "      <td>3.0</td>\n",
       "      <td>2.0</td>\n",
       "      <td>0.0</td>\n",
       "      <td>- Please be respectful of the household, if yo...</td>\n",
       "      <td>NaN</td>\n",
       "    </tr>\n",
       "    <tr>\n",
       "      <th>43878</th>\n",
       "      <td>25235155</td>\n",
       "      <td>Nice room in Brooklyn, Safe area 30m to D,N/Town</td>\n",
       "      <td>19270172557</td>\n",
       "      <td>unconfirmed</td>\n",
       "      <td>Nikolett</td>\n",
       "      <td>Brooklyn</td>\n",
       "      <td>Borough Park</td>\n",
       "      <td>40.63480</td>\n",
       "      <td>-74.00304</td>\n",
       "      <td>Yes</td>\n",
       "      <td>...</td>\n",
       "      <td>207</td>\n",
       "      <td>1</td>\n",
       "      <td>6.0</td>\n",
       "      <td>6/23/2019</td>\n",
       "      <td>2.25</td>\n",
       "      <td>3.0</td>\n",
       "      <td>2.0</td>\n",
       "      <td>46.0</td>\n",
       "      <td>You are my guest - please behave as such!  Thi...</td>\n",
       "      <td>NaN</td>\n",
       "    </tr>\n",
       "  </tbody>\n",
       "</table>\n",
       "<p>5 rows × 24 columns</p>\n",
       "</div>"
      ],
      "text/plain": [
       "             id                                              name  \\\n",
       "66438  37695043  Relaxing Queen Bed Studio w/Fast WIFI & Elevator   \n",
       "88854  50075400               Spacious, Clean and Comfy 2 Bedroom   \n",
       "8384    5631819         Magical Oasis in Bushwick! 20 min to City   \n",
       "28637  16817551               Adorable Hamilton Heights Apartment   \n",
       "43878  25235155  Nice room in Brooklyn, Safe area 30m to D,N/Town   \n",
       "\n",
       "           host_id host_identity_verified host_name neighbourhood_group  \\\n",
       "66438  50067575281            unconfirmed   Vincent           Manhattan   \n",
       "88854  72326113442               verified      Alex            Brooklyn   \n",
       "8384   52755950330            unconfirmed      Leah            Brooklyn   \n",
       "28637  42487327053            unconfirmed   Jessica           Manhattan   \n",
       "43878  19270172557            unconfirmed  Nikolett            Brooklyn   \n",
       "\n",
       "            neighbourhood       lat      long instant_bookable  ...  \\\n",
       "66438     Upper East Side  40.77901 -73.94789               No  ...   \n",
       "88854  Bedford-Stuyvesant  40.68385 -73.95230              Yes  ...   \n",
       "8384             Bushwick  40.69710 -73.92046              Yes  ...   \n",
       "28637              Harlem  40.82434 -73.95066               No  ...   \n",
       "43878        Borough Park  40.63480 -74.00304              Yes  ...   \n",
       "\n",
       "      service_fee_in_$ minimum_nights  number_of_reviews  last_review  \\\n",
       "66438              112              2               12.0   11/23/2020   \n",
       "88854               30              2               66.0    6/30/2019   \n",
       "8384               106              2               56.0     7/4/2019   \n",
       "28637               15              3               14.0     3/9/2019   \n",
       "43878              207              1                6.0    6/23/2019   \n",
       "\n",
       "       reviews_per_month  review_rate_number  calculated_host_listings_count  \\\n",
       "66438               0.59                 5.0                             1.0   \n",
       "88854               2.01                 2.0                             2.0   \n",
       "8384                1.11                 1.0                             1.0   \n",
       "28637               0.73                 3.0                             2.0   \n",
       "43878               2.25                 3.0                             2.0   \n",
       "\n",
       "      availability_365                                        house_rules  \\\n",
       "66438              0.0                                                NaN   \n",
       "88854             55.0  Be respectful of our neighbors - No loud music...   \n",
       "8384             238.0  Please be respectful of our neighbors and keep...   \n",
       "28637              0.0  - Please be respectful of the household, if yo...   \n",
       "43878             46.0  You are my guest - please behave as such!  Thi...   \n",
       "\n",
       "       license  \n",
       "66438      NaN  \n",
       "88854      NaN  \n",
       "8384       NaN  \n",
       "28637      NaN  \n",
       "43878      NaN  \n",
       "\n",
       "[5 rows x 24 columns]"
      ]
     },
     "execution_count": 41,
     "metadata": {},
     "output_type": "execute_result"
    }
   ],
   "source": [
    "df.sample(5)"
   ]
  },
  {
   "cell_type": "code",
   "execution_count": 42,
   "id": "713cc506-bba6-4f77-96b6-d41f0dd142b8",
   "metadata": {},
   "outputs": [],
   "source": [
    "# filling nan values with 0 in number_of_reviews column and changing dtype\n",
    "df['number_of_reviews']=df['number_of_reviews'].fillna(0).astype(np.int16)"
   ]
  },
  {
   "cell_type": "code",
   "execution_count": 43,
   "id": "2010e346-8591-4c2e-8f88-cdb5205facc3",
   "metadata": {},
   "outputs": [],
   "source": [
    "# changing the dtype of last_review column\n",
    "df['last_review']=pd.to_datetime(df['last_review'])"
   ]
  },
  {
   "cell_type": "code",
   "execution_count": 44,
   "id": "84580fb1-266a-415c-89c2-c8599c0def8f",
   "metadata": {},
   "outputs": [],
   "source": [
    "# removing unwanted data\n",
    "df=df[df['last_review'].dt.year!=2058]"
   ]
  },
  {
   "cell_type": "code",
   "execution_count": 45,
   "id": "5d4b58e3-cfff-4450-a472-68d34322ec85",
   "metadata": {
    "scrolled": true
   },
   "outputs": [
    {
     "data": {
      "text/plain": [
       "id                                     0\n",
       "name                                   0\n",
       "host_id                                0\n",
       "host_identity_verified                 0\n",
       "host_name                              0\n",
       "neighbourhood_group                   23\n",
       "neighbourhood                          0\n",
       "lat                                    0\n",
       "long                                   0\n",
       "instant_bookable                       0\n",
       "cancellation_policy                    0\n",
       "room_type                              0\n",
       "construction_year                      0\n",
       "price_in_$                             0\n",
       "service_fee_in_$                       0\n",
       "minimum_nights                         0\n",
       "number_of_reviews                      0\n",
       "last_review                        15745\n",
       "reviews_per_month                  15736\n",
       "review_rate_number                   308\n",
       "calculated_host_listings_count       316\n",
       "availability_365                     406\n",
       "house_rules                        51800\n",
       "license                           101710\n",
       "dtype: int64"
      ]
     },
     "execution_count": 45,
     "metadata": {},
     "output_type": "execute_result"
    }
   ],
   "source": [
    "# checking null values again\n",
    "df.isnull().sum()"
   ]
  },
  {
   "cell_type": "code",
   "execution_count": 46,
   "id": "6a52fc4c-c17e-42db-837e-dac29fe0adf9",
   "metadata": {},
   "outputs": [],
   "source": [
    "# filling the reviews_per_month column with 0 where number_of_reviews are 0 \n",
    "df['reviews_per_month']=df['reviews_per_month'].mask(df['number_of_reviews']==0,0)"
   ]
  },
  {
   "cell_type": "code",
   "execution_count": 47,
   "id": "1fcc005c-a960-40f0-af4f-6bc8b3e46da3",
   "metadata": {},
   "outputs": [],
   "source": [
    "# changing the dtype of reviews_per_month column from float64 to float16\n",
    "df['reviews_per_month']=df['reviews_per_month'].astype('float16')"
   ]
  },
  {
   "cell_type": "code",
   "execution_count": 48,
   "id": "c5ccf5ba-7ec5-4878-82b3-c9980dd9f0d0",
   "metadata": {},
   "outputs": [
    {
     "data": {
      "text/plain": [
       "id                                     0\n",
       "name                                   0\n",
       "host_id                                0\n",
       "host_identity_verified                 0\n",
       "host_name                              0\n",
       "neighbourhood_group                   23\n",
       "neighbourhood                          0\n",
       "lat                                    0\n",
       "long                                   0\n",
       "instant_bookable                       0\n",
       "cancellation_policy                    0\n",
       "room_type                              0\n",
       "construction_year                      0\n",
       "price_in_$                             0\n",
       "service_fee_in_$                       0\n",
       "minimum_nights                         0\n",
       "number_of_reviews                      0\n",
       "last_review                        15745\n",
       "reviews_per_month                     22\n",
       "review_rate_number                   308\n",
       "calculated_host_listings_count       316\n",
       "availability_365                     406\n",
       "house_rules                        51800\n",
       "license                           101710\n",
       "dtype: int64"
      ]
     },
     "execution_count": 48,
     "metadata": {},
     "output_type": "execute_result"
    }
   ],
   "source": [
    "# checking null values again\n",
    "df.isnull().sum()"
   ]
  },
  {
   "cell_type": "code",
   "execution_count": 49,
   "id": "1688d5a2-a8ad-42cf-be1c-ff48880f64b2",
   "metadata": {},
   "outputs": [],
   "source": [
    "# removing the nan values from reviews_per_month column \n",
    "df.dropna(subset=['reviews_per_month'],axis=0,inplace=True)"
   ]
  },
  {
   "cell_type": "code",
   "execution_count": 50,
   "id": "405a21ff-fc96-453a-8d9c-8cc2bf6e2638",
   "metadata": {},
   "outputs": [
    {
     "data": {
      "text/plain": [
       "id                                     0\n",
       "name                                   0\n",
       "host_id                                0\n",
       "host_identity_verified                 0\n",
       "host_name                              0\n",
       "neighbourhood_group                   22\n",
       "neighbourhood                          0\n",
       "lat                                    0\n",
       "long                                   0\n",
       "instant_bookable                       0\n",
       "cancellation_policy                    0\n",
       "room_type                              0\n",
       "construction_year                      0\n",
       "price_in_$                             0\n",
       "service_fee_in_$                       0\n",
       "minimum_nights                         0\n",
       "number_of_reviews                      0\n",
       "last_review                        15736\n",
       "reviews_per_month                      0\n",
       "review_rate_number                   303\n",
       "calculated_host_listings_count       316\n",
       "availability_365                     404\n",
       "house_rules                        51792\n",
       "license                           101688\n",
       "dtype: int64"
      ]
     },
     "execution_count": 50,
     "metadata": {},
     "output_type": "execute_result"
    }
   ],
   "source": [
    "# checking null values again\n",
    "df.isnull().sum()"
   ]
  },
  {
   "cell_type": "code",
   "execution_count": 51,
   "id": "1a852906-c95f-4b4a-a5dc-2da27dfd013f",
   "metadata": {},
   "outputs": [],
   "source": [
    "# filling the nan values in review_rate_number with the mean of review_rate_number \n",
    "# and changing the dtype to int8 to reduce memory usage\n",
    "df['review_rate_number']=df['review_rate_number'].fillna(df['review_rate_number'].mean().round()).astype('int8') "
   ]
  },
  {
   "cell_type": "code",
   "execution_count": 52,
   "id": "fc08b390-4d1f-4560-89e2-2a76fc5ad39b",
   "metadata": {},
   "outputs": [
    {
     "data": {
      "text/plain": [
       "id                                     0\n",
       "name                                   0\n",
       "host_id                                0\n",
       "host_identity_verified                 0\n",
       "host_name                              0\n",
       "neighbourhood_group                   22\n",
       "neighbourhood                          0\n",
       "lat                                    0\n",
       "long                                   0\n",
       "instant_bookable                       0\n",
       "cancellation_policy                    0\n",
       "room_type                              0\n",
       "construction_year                      0\n",
       "price_in_$                             0\n",
       "service_fee_in_$                       0\n",
       "minimum_nights                         0\n",
       "number_of_reviews                      0\n",
       "last_review                        15736\n",
       "reviews_per_month                      0\n",
       "review_rate_number                     0\n",
       "calculated_host_listings_count       316\n",
       "availability_365                     404\n",
       "house_rules                        51792\n",
       "license                           101688\n",
       "dtype: int64"
      ]
     },
     "execution_count": 52,
     "metadata": {},
     "output_type": "execute_result"
    }
   ],
   "source": [
    "# checking null values again\n",
    "df.isnull().sum()"
   ]
  },
  {
   "cell_type": "code",
   "execution_count": 53,
   "id": "649ad164-8584-4017-9a42-84ce92a0cf75",
   "metadata": {},
   "outputs": [],
   "source": [
    "# filling the nan values in calculated_host_listings_count with the mean of calculated_host_listings_count \n",
    "# and changing the dtype to int8 to reduce memory usage\n",
    "df['calculated_host_listings_count']=df['calculated_host_listings_count'].fillna(df['calculated_host_listings_count'].mean().round()).astype('int8') "
   ]
  },
  {
   "cell_type": "code",
   "execution_count": 54,
   "id": "3b558f1d-2618-4f04-bb0d-9b2fc47ce764",
   "metadata": {},
   "outputs": [
    {
     "data": {
      "text/plain": [
       "id                                     0\n",
       "name                                   0\n",
       "host_id                                0\n",
       "host_identity_verified                 0\n",
       "host_name                              0\n",
       "neighbourhood_group                   22\n",
       "neighbourhood                          0\n",
       "lat                                    0\n",
       "long                                   0\n",
       "instant_bookable                       0\n",
       "cancellation_policy                    0\n",
       "room_type                              0\n",
       "construction_year                      0\n",
       "price_in_$                             0\n",
       "service_fee_in_$                       0\n",
       "minimum_nights                         0\n",
       "number_of_reviews                      0\n",
       "last_review                        15736\n",
       "reviews_per_month                      0\n",
       "review_rate_number                     0\n",
       "calculated_host_listings_count         0\n",
       "availability_365                     404\n",
       "house_rules                        51792\n",
       "license                           101688\n",
       "dtype: int64"
      ]
     },
     "execution_count": 54,
     "metadata": {},
     "output_type": "execute_result"
    }
   ],
   "source": [
    "# checking null values again\n",
    "df.isnull().sum()"
   ]
  },
  {
   "cell_type": "code",
   "execution_count": 55,
   "id": "5143b61c-13d5-4ab5-8bc2-143b1b7b6b97",
   "metadata": {},
   "outputs": [],
   "source": [
    "# converting the days into 365 where the number of days in availability_365 is greater than 365 \n",
    "# because a year cannot have more than 365 days\n",
    "df.loc[df['availability_365']>365,'availability_365']=365"
   ]
  },
  {
   "cell_type": "code",
   "execution_count": 56,
   "id": "282c3b7a-7ba8-4907-b202-a29031b4b9ed",
   "metadata": {},
   "outputs": [],
   "source": [
    "# replacing the availability_365 column with mean where availability_365 is 0\n",
    "df['availability_365']=df['availability_365'].mask(df['availability_365']==0,df['availability_365'].mean().round())"
   ]
  },
  {
   "cell_type": "code",
   "execution_count": 57,
   "id": "3b215925-f5ec-45d8-9ddd-9c3a06759f34",
   "metadata": {},
   "outputs": [],
   "source": [
    "# replacing the availability_365 column with mean where availability_365 is nan\n",
    "df['availability_365'] = df['availability_365'].fillna(df['availability_365'].mean().round()).astype('int16')"
   ]
  },
  {
   "cell_type": "code",
   "execution_count": 58,
   "id": "2a54f83a-8802-4392-9ad9-941eadee26e9",
   "metadata": {},
   "outputs": [
    {
     "data": {
      "text/plain": [
       "id                                     0\n",
       "name                                   0\n",
       "host_id                                0\n",
       "host_identity_verified                 0\n",
       "host_name                              0\n",
       "neighbourhood_group                   22\n",
       "neighbourhood                          0\n",
       "lat                                    0\n",
       "long                                   0\n",
       "instant_bookable                       0\n",
       "cancellation_policy                    0\n",
       "room_type                              0\n",
       "construction_year                      0\n",
       "price_in_$                             0\n",
       "service_fee_in_$                       0\n",
       "minimum_nights                         0\n",
       "number_of_reviews                      0\n",
       "last_review                        15736\n",
       "reviews_per_month                      0\n",
       "review_rate_number                     0\n",
       "calculated_host_listings_count         0\n",
       "availability_365                       0\n",
       "house_rules                        51792\n",
       "license                           101688\n",
       "dtype: int64"
      ]
     },
     "execution_count": 58,
     "metadata": {},
     "output_type": "execute_result"
    }
   ],
   "source": [
    "# checking null values again\n",
    "df.isnull().sum()"
   ]
  },
  {
   "cell_type": "code",
   "execution_count": 59,
   "id": "6eef882c-614e-4c94-8201-d5ec15dd49f3",
   "metadata": {},
   "outputs": [],
   "source": [
    "# dropping the house_rules and license column\n",
    "df.drop(['house_rules','license'],axis=1,inplace=True)"
   ]
  },
  {
   "cell_type": "code",
   "execution_count": 60,
   "id": "93b21bee-d4bf-4d4d-b294-32a38488bd3f",
   "metadata": {},
   "outputs": [
    {
     "name": "stdout",
     "output_type": "stream",
     "text": [
      "<class 'pandas.core.frame.DataFrame'>\n",
      "Index: 101690 entries, 0 to 102598\n",
      "Data columns (total 22 columns):\n",
      " #   Column                          Non-Null Count   Dtype         \n",
      "---  ------                          --------------   -----         \n",
      " 0   id                              101690 non-null  int64         \n",
      " 1   name                            101690 non-null  object        \n",
      " 2   host_id                         101690 non-null  int64         \n",
      " 3   host_identity_verified          101690 non-null  object        \n",
      " 4   host_name                       101690 non-null  object        \n",
      " 5   neighbourhood_group             101668 non-null  object        \n",
      " 6   neighbourhood                   101690 non-null  object        \n",
      " 7   lat                             101690 non-null  float64       \n",
      " 8   long                            101690 non-null  float64       \n",
      " 9   instant_bookable                101690 non-null  object        \n",
      " 10  cancellation_policy             101690 non-null  object        \n",
      " 11  room_type                       101690 non-null  object        \n",
      " 12  construction_year               101690 non-null  int16         \n",
      " 13  price_in_$                      101690 non-null  int16         \n",
      " 14  service_fee_in_$                101690 non-null  int16         \n",
      " 15  minimum_nights                  101690 non-null  int8          \n",
      " 16  number_of_reviews               101690 non-null  int16         \n",
      " 17  last_review                     85954 non-null   datetime64[ns]\n",
      " 18  reviews_per_month               101690 non-null  float16       \n",
      " 19  review_rate_number              101690 non-null  int8          \n",
      " 20  calculated_host_listings_count  101690 non-null  int8          \n",
      " 21  availability_365                101690 non-null  int16         \n",
      "dtypes: datetime64[ns](1), float16(1), float64(2), int16(5), int64(2), int8(3), object(8)\n",
      "memory usage: 12.3+ MB\n"
     ]
    }
   ],
   "source": [
    "df.info()"
   ]
  },
  {
   "cell_type": "code",
   "execution_count": 61,
   "id": "802048fd-1617-453b-9d18-039839a25cda",
   "metadata": {},
   "outputs": [
    {
     "data": {
      "text/plain": [
       "np.int64(539)"
      ]
     },
     "execution_count": 61,
     "metadata": {},
     "output_type": "execute_result"
    }
   ],
   "source": [
    "# checking duplicates in dataset \n",
    "df.duplicated().sum()"
   ]
  },
  {
   "cell_type": "code",
   "execution_count": 62,
   "id": "16f614b4-e804-4c37-98b3-1a45b4c54a5e",
   "metadata": {},
   "outputs": [],
   "source": [
    "# removing duplicate rows\n",
    "df.drop_duplicates(keep='first',inplace=True)"
   ]
  },
  {
   "cell_type": "code",
   "execution_count": 63,
   "id": "9ec0893e-bcbd-4989-b64e-b987dc5b8700",
   "metadata": {},
   "outputs": [
    {
     "data": {
      "text/plain": [
       "np.int64(0)"
      ]
     },
     "execution_count": 63,
     "metadata": {},
     "output_type": "execute_result"
    }
   ],
   "source": [
    "df.duplicated().sum()"
   ]
  },
  {
   "cell_type": "code",
   "execution_count": 64,
   "id": "040d590c-0ab6-407e-a59e-c2d49dd54bcf",
   "metadata": {},
   "outputs": [],
   "source": [
    "# now resetting the index value\n",
    "df.reset_index(drop=True, inplace= True)"
   ]
  },
  {
   "cell_type": "code",
   "execution_count": 65,
   "id": "5ae5a89f-20b3-4847-a469-47dfd3f5bcba",
   "metadata": {},
   "outputs": [
    {
     "name": "stdout",
     "output_type": "stream",
     "text": [
      "<class 'pandas.core.frame.DataFrame'>\n",
      "RangeIndex: 101151 entries, 0 to 101150\n",
      "Data columns (total 22 columns):\n",
      " #   Column                          Non-Null Count   Dtype         \n",
      "---  ------                          --------------   -----         \n",
      " 0   id                              101151 non-null  int64         \n",
      " 1   name                            101151 non-null  object        \n",
      " 2   host_id                         101151 non-null  int64         \n",
      " 3   host_identity_verified          101151 non-null  object        \n",
      " 4   host_name                       101151 non-null  object        \n",
      " 5   neighbourhood_group             101129 non-null  object        \n",
      " 6   neighbourhood                   101151 non-null  object        \n",
      " 7   lat                             101151 non-null  float64       \n",
      " 8   long                            101151 non-null  float64       \n",
      " 9   instant_bookable                101151 non-null  object        \n",
      " 10  cancellation_policy             101151 non-null  object        \n",
      " 11  room_type                       101151 non-null  object        \n",
      " 12  construction_year               101151 non-null  int16         \n",
      " 13  price_in_$                      101151 non-null  int16         \n",
      " 14  service_fee_in_$                101151 non-null  int16         \n",
      " 15  minimum_nights                  101151 non-null  int8          \n",
      " 16  number_of_reviews               101151 non-null  int16         \n",
      " 17  last_review                     85475 non-null   datetime64[ns]\n",
      " 18  reviews_per_month               101151 non-null  float16       \n",
      " 19  review_rate_number              101151 non-null  int8          \n",
      " 20  calculated_host_listings_count  101151 non-null  int8          \n",
      " 21  availability_365                101151 non-null  int16         \n",
      "dtypes: datetime64[ns](1), float16(1), float64(2), int16(5), int64(2), int8(3), object(8)\n",
      "memory usage: 11.5+ MB\n"
     ]
    }
   ],
   "source": [
    "df.info()"
   ]
  },
  {
   "cell_type": "code",
   "execution_count": 66,
   "id": "137b9096-07f3-470f-acfa-a2d8620514a0",
   "metadata": {},
   "outputs": [
    {
     "data": {
      "text/html": [
       "<div>\n",
       "<style scoped>\n",
       "    .dataframe tbody tr th:only-of-type {\n",
       "        vertical-align: middle;\n",
       "    }\n",
       "\n",
       "    .dataframe tbody tr th {\n",
       "        vertical-align: top;\n",
       "    }\n",
       "\n",
       "    .dataframe thead th {\n",
       "        text-align: right;\n",
       "    }\n",
       "</style>\n",
       "<table border=\"1\" class=\"dataframe\">\n",
       "  <thead>\n",
       "    <tr style=\"text-align: right;\">\n",
       "      <th></th>\n",
       "      <th>id</th>\n",
       "      <th>name</th>\n",
       "      <th>host_id</th>\n",
       "      <th>host_identity_verified</th>\n",
       "      <th>host_name</th>\n",
       "      <th>neighbourhood_group</th>\n",
       "      <th>neighbourhood</th>\n",
       "      <th>lat</th>\n",
       "      <th>long</th>\n",
       "      <th>instant_bookable</th>\n",
       "      <th>...</th>\n",
       "      <th>construction_year</th>\n",
       "      <th>price_in_$</th>\n",
       "      <th>service_fee_in_$</th>\n",
       "      <th>minimum_nights</th>\n",
       "      <th>number_of_reviews</th>\n",
       "      <th>last_review</th>\n",
       "      <th>reviews_per_month</th>\n",
       "      <th>review_rate_number</th>\n",
       "      <th>calculated_host_listings_count</th>\n",
       "      <th>availability_365</th>\n",
       "    </tr>\n",
       "  </thead>\n",
       "  <tbody>\n",
       "    <tr>\n",
       "      <th>0</th>\n",
       "      <td>1001254</td>\n",
       "      <td>Clean &amp; quiet apt home by the park</td>\n",
       "      <td>80014485718</td>\n",
       "      <td>unconfirmed</td>\n",
       "      <td>Madaline</td>\n",
       "      <td>Brooklyn</td>\n",
       "      <td>Kensington</td>\n",
       "      <td>40.64749</td>\n",
       "      <td>-73.97237</td>\n",
       "      <td>No</td>\n",
       "      <td>...</td>\n",
       "      <td>2020</td>\n",
       "      <td>966</td>\n",
       "      <td>193</td>\n",
       "      <td>10</td>\n",
       "      <td>9</td>\n",
       "      <td>2021-10-19</td>\n",
       "      <td>0.209961</td>\n",
       "      <td>4</td>\n",
       "      <td>6</td>\n",
       "      <td>286</td>\n",
       "    </tr>\n",
       "    <tr>\n",
       "      <th>1</th>\n",
       "      <td>1002102</td>\n",
       "      <td>Skylit Midtown Castle</td>\n",
       "      <td>52335172823</td>\n",
       "      <td>verified</td>\n",
       "      <td>Jenna</td>\n",
       "      <td>Manhattan</td>\n",
       "      <td>Midtown</td>\n",
       "      <td>40.75362</td>\n",
       "      <td>-73.98377</td>\n",
       "      <td>No</td>\n",
       "      <td>...</td>\n",
       "      <td>2007</td>\n",
       "      <td>142</td>\n",
       "      <td>28</td>\n",
       "      <td>30</td>\n",
       "      <td>45</td>\n",
       "      <td>2022-05-21</td>\n",
       "      <td>0.379883</td>\n",
       "      <td>4</td>\n",
       "      <td>2</td>\n",
       "      <td>228</td>\n",
       "    </tr>\n",
       "    <tr>\n",
       "      <th>2</th>\n",
       "      <td>1002403</td>\n",
       "      <td>THE VILLAGE OF HARLEM....NEW YORK !</td>\n",
       "      <td>78829239556</td>\n",
       "      <td>unconfirmed</td>\n",
       "      <td>Elise</td>\n",
       "      <td>Manhattan</td>\n",
       "      <td>Harlem</td>\n",
       "      <td>40.80902</td>\n",
       "      <td>-73.94190</td>\n",
       "      <td>Yes</td>\n",
       "      <td>...</td>\n",
       "      <td>2005</td>\n",
       "      <td>620</td>\n",
       "      <td>124</td>\n",
       "      <td>3</td>\n",
       "      <td>0</td>\n",
       "      <td>NaT</td>\n",
       "      <td>0.000000</td>\n",
       "      <td>5</td>\n",
       "      <td>1</td>\n",
       "      <td>352</td>\n",
       "    </tr>\n",
       "    <tr>\n",
       "      <th>3</th>\n",
       "      <td>1003689</td>\n",
       "      <td>Entire Apt: Spacious Studio/Loft by central park</td>\n",
       "      <td>92037596077</td>\n",
       "      <td>verified</td>\n",
       "      <td>Lyndon</td>\n",
       "      <td>Manhattan</td>\n",
       "      <td>East Harlem</td>\n",
       "      <td>40.79851</td>\n",
       "      <td>-73.94399</td>\n",
       "      <td>No</td>\n",
       "      <td>...</td>\n",
       "      <td>2009</td>\n",
       "      <td>204</td>\n",
       "      <td>41</td>\n",
       "      <td>10</td>\n",
       "      <td>9</td>\n",
       "      <td>2018-11-19</td>\n",
       "      <td>0.099976</td>\n",
       "      <td>3</td>\n",
       "      <td>1</td>\n",
       "      <td>289</td>\n",
       "    </tr>\n",
       "    <tr>\n",
       "      <th>4</th>\n",
       "      <td>1004098</td>\n",
       "      <td>Large Cozy 1 BR Apartment In Midtown East</td>\n",
       "      <td>45498551794</td>\n",
       "      <td>verified</td>\n",
       "      <td>Michelle</td>\n",
       "      <td>Manhattan</td>\n",
       "      <td>Murray Hill</td>\n",
       "      <td>40.74767</td>\n",
       "      <td>-73.97500</td>\n",
       "      <td>Yes</td>\n",
       "      <td>...</td>\n",
       "      <td>2013</td>\n",
       "      <td>577</td>\n",
       "      <td>115</td>\n",
       "      <td>3</td>\n",
       "      <td>74</td>\n",
       "      <td>2019-06-22</td>\n",
       "      <td>0.589844</td>\n",
       "      <td>3</td>\n",
       "      <td>1</td>\n",
       "      <td>365</td>\n",
       "    </tr>\n",
       "  </tbody>\n",
       "</table>\n",
       "<p>5 rows × 22 columns</p>\n",
       "</div>"
      ],
      "text/plain": [
       "        id                                              name      host_id  \\\n",
       "0  1001254                Clean & quiet apt home by the park  80014485718   \n",
       "1  1002102                             Skylit Midtown Castle  52335172823   \n",
       "2  1002403               THE VILLAGE OF HARLEM....NEW YORK !  78829239556   \n",
       "3  1003689  Entire Apt: Spacious Studio/Loft by central park  92037596077   \n",
       "4  1004098         Large Cozy 1 BR Apartment In Midtown East  45498551794   \n",
       "\n",
       "  host_identity_verified host_name neighbourhood_group neighbourhood  \\\n",
       "0            unconfirmed  Madaline            Brooklyn    Kensington   \n",
       "1               verified     Jenna           Manhattan       Midtown   \n",
       "2            unconfirmed     Elise           Manhattan        Harlem   \n",
       "3               verified    Lyndon           Manhattan   East Harlem   \n",
       "4               verified  Michelle           Manhattan   Murray Hill   \n",
       "\n",
       "        lat      long instant_bookable  ... construction_year price_in_$  \\\n",
       "0  40.64749 -73.97237               No  ...              2020        966   \n",
       "1  40.75362 -73.98377               No  ...              2007        142   \n",
       "2  40.80902 -73.94190              Yes  ...              2005        620   \n",
       "3  40.79851 -73.94399               No  ...              2009        204   \n",
       "4  40.74767 -73.97500              Yes  ...              2013        577   \n",
       "\n",
       "   service_fee_in_$  minimum_nights  number_of_reviews  last_review  \\\n",
       "0               193              10                  9   2021-10-19   \n",
       "1                28              30                 45   2022-05-21   \n",
       "2               124               3                  0          NaT   \n",
       "3                41              10                  9   2018-11-19   \n",
       "4               115               3                 74   2019-06-22   \n",
       "\n",
       "   reviews_per_month review_rate_number  calculated_host_listings_count  \\\n",
       "0           0.209961                  4                               6   \n",
       "1           0.379883                  4                               2   \n",
       "2           0.000000                  5                               1   \n",
       "3           0.099976                  3                               1   \n",
       "4           0.589844                  3                               1   \n",
       "\n",
       "   availability_365  \n",
       "0               286  \n",
       "1               228  \n",
       "2               352  \n",
       "3               289  \n",
       "4               365  \n",
       "\n",
       "[5 rows x 22 columns]"
      ]
     },
     "execution_count": 66,
     "metadata": {},
     "output_type": "execute_result"
    }
   ],
   "source": [
    "df.head()"
   ]
  },
  {
   "cell_type": "markdown",
   "id": "3fe10bc7-4e28-48f5-9f5e-b212c81ddc57",
   "metadata": {},
   "source": [
    "## What is the distribution of hotel prices?"
   ]
  },
  {
   "cell_type": "code",
   "execution_count": 67,
   "id": "7ab04a21-9631-478f-9fec-7a3cae16730e",
   "metadata": {},
   "outputs": [
    {
     "data": {
      "image/png": "[encoded data removed]",
      "text/plain": [
       "<Figure size 640x480 with 1 Axes>"
      ]
     },
     "metadata": {},
     "output_type": "display_data"
    }
   ],
   "source": [
    "bins = [0, 200, 400, 600, 800, 1000]\n",
    "sns.histplot(data=df, x='price_in_$', bins=bins)\n",
    "plt.title(\"Distribution of Hotels by Price Range\")\n",
    "labels = [f'{bins[i]}–{bins[i+1]}' for i in range(len(bins)-1)]\n",
    "bin_centers = [(bins[i] + bins[i+1]) / 2 for i in range(len(bins)-1)]\n",
    "plt.xticks(bin_centers, labels)\n",
    "plt.ylabel(\"Number of Hotels\")\n",
    "plt.xlabel(\"Price_in_$\")\n",
    "plt.show()"
   ]
  },
  {
   "cell_type": "markdown",
   "id": "1e8add3a-0b40-4d1d-82e2-30f6c8dc6e36",
   "metadata": {},
   "source": [
    "## What is the distribution of service fees?"
   ]
  },
  {
   "cell_type": "code",
   "execution_count": 68,
   "id": "f59fb695-615c-4842-a7a7-9f1501e616f6",
   "metadata": {},
   "outputs": [
    {
     "data": {
      "image/png": "[encoded data removed]",
      "text/plain": [
       "<Figure size 800x400 with 1 Axes>"
      ]
     },
     "metadata": {},
     "output_type": "display_data"
    }
   ],
   "source": [
    "plt.figure(figsize=(8,4))\n",
    "bins = [0, 30, 60, 90, 120, 150,180,210,240]\n",
    "sns.histplot(data=df,x='service_fee_in_$',bins=bins)\n",
    "labels = [f'{bins[i]}–{bins[i+1]}' for i in range(len(bins)-1)]\n",
    "bin_centers = [(bins[i] + bins[i+1]) / 2 for i in range(len(bins)-1)]\n",
    "plt.xticks(bin_centers, labels)\n",
    "plt.title(\"Distribution of Hotels by Service Fees\")\n",
    "plt.grid(False)\n",
    "plt.ylabel(\"Number of Hotels\")\n",
    "plt.show()"
   ]
  },
  {
   "cell_type": "markdown",
   "id": "c471b36a-3769-4f22-90f8-4e36f8d8955b",
   "metadata": {},
   "source": [
    "## Compare mean price distributions across different room types."
   ]
  },
  {
   "cell_type": "code",
   "execution_count": 69,
   "id": "0e129400-5b3e-4e3f-84d2-b6d2ef246151",
   "metadata": {},
   "outputs": [
    {
     "data": {
      "image/png": "[encoded data removed]",
      "text/plain": [
       "<Figure size 640x480 with 1 Axes>"
      ]
     },
     "metadata": {},
     "output_type": "display_data"
    }
   ],
   "source": [
    "sns.barplot(data=df,x='room_type',y='price_in_$',errorbar=None)\n",
    "plt.title(\"Room Types Distribution by Average Price\")\n",
    "plt.xlabel(\"Room Type\")\n",
    "plt.ylabel(\"Price_in_$\")\n",
    "plt.grid()\n",
    "plt.show()"
   ]
  },
  {
   "cell_type": "markdown",
   "id": "b572b0fc-df3b-4e6f-9d51-a04158b54a37",
   "metadata": {},
   "source": [
    "## Compare mean service fee distributions across different room types."
   ]
  },
  {
   "cell_type": "code",
   "execution_count": 70,
   "id": "e6f88b7b-9d09-47d4-8c39-33b868cdfd49",
   "metadata": {},
   "outputs": [
    {
     "data": {
      "image/png": "[encoded data removed]",
      "text/plain": [
       "<Figure size 640x480 with 1 Axes>"
      ]
     },
     "metadata": {},
     "output_type": "display_data"
    }
   ],
   "source": [
    "sns.barplot(data=df,x='room_type',y='service_fee_in_$',errorbar=None)\n",
    "plt.title(\"Room Types Distribution by Average Service Fees\")\n",
    "plt.xlabel(\"Room Type\")\n",
    "plt.ylabel(\"Service_fee_in_$\")\n",
    "plt.grid()\n",
    "plt.show()"
   ]
  },
  {
   "cell_type": "markdown",
   "id": "82855ed1-685d-4d95-a212-37e6b78ae3fe",
   "metadata": {},
   "source": [
    "## What is the average review rate by room type?"
   ]
  },
  {
   "cell_type": "code",
   "execution_count": 71,
   "id": "d45daac6-2e2c-4ce6-a7cf-32be193b0feb",
   "metadata": {},
   "outputs": [
    {
     "data": {
      "image/png": "[encoded data removed]",
      "text/plain": [
       "<Figure size 640x480 with 1 Axes>"
      ]
     },
     "metadata": {},
     "output_type": "display_data"
    }
   ],
   "source": [
    "sns.barplot(data=df,x='room_type',y='number_of_reviews' ,errorbar=None, estimator='mean')\n",
    "plt.title(\"Room Type vs Average Review Score\")\n",
    "plt.xlabel(\"\")\n",
    "plt.ylabel(\"\")\n",
    "plt.grid()\n",
    "plt.show()"
   ]
  },
  {
   "cell_type": "markdown",
   "id": "3d9b27b4-d7d2-4f92-86c8-de18af715fd4",
   "metadata": {},
   "source": [
    "## How does the average number of reviews per month vary across different neighbourhood groups?"
   ]
  },
  {
   "cell_type": "code",
   "execution_count": 72,
   "id": "b3d19359-3ada-4192-9427-ea208f8ed948",
   "metadata": {},
   "outputs": [
    {
     "data": {
      "image/png": "[encoded data removed]",
      "text/plain": [
       "<Figure size 1000x500 with 1 Axes>"
      ]
     },
     "metadata": {},
     "output_type": "display_data"
    }
   ],
   "source": [
    "plt.figure(figsize=(10, 5))\n",
    "sns.barplot(data=df,y='reviews_per_month',x='neighbourhood_group',errorbar=None)\n",
    "plt.title('Comparing Average Reviews Per Month Across Neighbourhoods')\n",
    "plt.xlabel(\"\")\n",
    "plt.ylabel(\"\")\n",
    "plt.grid()\n",
    "plt.show()"
   ]
  },
  {
   "cell_type": "markdown",
   "id": "98ff98ab-6de7-4ced-bb22-4f326ce7c152",
   "metadata": {},
   "source": [
    "## How does availability differ across neighbourhood groups?"
   ]
  },
  {
   "cell_type": "code",
   "execution_count": 73,
   "id": "6498380f-cb83-4177-a194-2001dce3828c",
   "metadata": {},
   "outputs": [
    {
     "data": {
      "image/png": "[encoded data removed]",
      "text/plain": [
       "<Figure size 640x480 with 1 Axes>"
      ]
     },
     "metadata": {},
     "output_type": "display_data"
    }
   ],
   "source": [
    "sns.barplot(data=df, x='availability_365',y='neighbourhood_group',errorbar=None)\n",
    "plt.title(\"Average Availability Across Neighbourhood Groups\")\n",
    "plt.ylabel(\"Neighbourhood Groups\")\n",
    "plt.xlabel(\"Number of Days\")\n",
    "plt.show()"
   ]
  },
  {
   "cell_type": "markdown",
   "id": "5a277100-5f22-4e11-88ac-56d0908b6d52",
   "metadata": {},
   "source": [
    "## What is the distribution of instant booking status ?"
   ]
  },
  {
   "cell_type": "code",
   "execution_count": 74,
   "id": "56e50a67-2b54-4c15-bfcb-01d5ec727265",
   "metadata": {},
   "outputs": [
    {
     "data": {
      "text/plain": [
       "instant_bookable\n",
       "No             50744\n",
       "Yes            50318\n",
       "Unconfirmed       89\n",
       "Name: count, dtype: int64"
      ]
     },
     "execution_count": 74,
     "metadata": {},
     "output_type": "execute_result"
    }
   ],
   "source": [
    "a=df.instant_bookable.value_counts()\n",
    "a"
   ]
  },
  {
   "cell_type": "code",
   "execution_count": 75,
   "id": "749c6ec9-c00d-45bb-b725-7ff64ba5a6de",
   "metadata": {},
   "outputs": [
    {
     "data": {
      "image/png": "[encoded data removed]",
      "text/plain": [
       "<Figure size 640x480 with 1 Axes>"
      ]
     },
     "metadata": {},
     "output_type": "display_data"
    }
   ],
   "source": [
    "plt.bar(x=a.index,height=a)\n",
    "for i, value in enumerate(a):\n",
    "    plt.text(i, value, str(round(value, 2)), ha='center', va='bottom')\n",
    "plt.title('Distribution of Booking Status')\n",
    "plt.yticks()\n",
    "plt.xlabel('Booking Status')\n",
    "plt.ylabel('Number of Booking Status')\n",
    "plt.show()"
   ]
  },
  {
   "cell_type": "markdown",
   "id": "49535bdf-16d2-469d-852c-efeaff984db5",
   "metadata": {},
   "source": [
    "## Do verified hosts charge more on average?"
   ]
  },
  {
   "cell_type": "code",
   "execution_count": 76,
   "id": "6c8e6445-7f46-4c6d-988a-2f7358c8e7e3",
   "metadata": {},
   "outputs": [
    {
     "data": {
      "image/png": "[encoded data removed]",
      "text/plain": [
       "<Figure size 640x480 with 1 Axes>"
      ]
     },
     "metadata": {},
     "output_type": "display_data"
    }
   ],
   "source": [
    "ax = sns.barplot(data=df, x='host_identity_verified', y='price_in_$', errorbar=None)\n",
    "for container in ax.containers:\n",
    "    ax.bar_label(container, fmt='%.2f', label_type='edge', padding=0)\n",
    "ax.set_title('Average Price by Host Identity Verification')\n",
    "ax.set_xlabel('Host Identity Verified')\n",
    "ax.set_ylabel('Price_in_$')\n",
    "ax.set_xlabel('Host Identity Verification')\n",
    "plt.tight_layout()\n",
    "plt.show()"
   ]
  },
  {
   "cell_type": "markdown",
   "id": "a3eceba7-a7fd-495d-8e05-a053880b38d3",
   "metadata": {},
   "source": [
    "## Trend of last_review over the years."
   ]
  },
  {
   "cell_type": "code",
   "execution_count": 77,
   "id": "e0835772-8f0c-488a-adb9-3d0ef8fcbc75",
   "metadata": {},
   "outputs": [],
   "source": [
    "df['review_year'] = df['last_review'].dt.year\n",
    "review_trend = df['review_year'].value_counts().sort_index()"
   ]
  },
  {
   "cell_type": "code",
   "execution_count": 78,
   "id": "be39ca12-241d-49d2-9872-81dbbc48a5cb",
   "metadata": {},
   "outputs": [
    {
     "data": {
      "image/png": "[encoded data removed]",
      "text/plain": [
       "<Figure size 640x480 with 1 Axes>"
      ]
     },
     "metadata": {},
     "output_type": "display_data"
    }
   ],
   "source": [
    "sns.lineplot(x=review_trend.index, y=review_trend.values, marker='o')\n",
    "plt.title(\"Trend of Last Reviews Over the Years\")\n",
    "plt.xlabel(\"Year\")\n",
    "plt.ylabel(\"Number of Reviews\")\n",
    "plt.xticks(ticks=review_trend.index, rotation=45)\n",
    "plt.grid()\n",
    "plt.tight_layout()\n",
    "plt.show()"
   ]
  },
  {
   "cell_type": "markdown",
   "id": "47310a2b-ee81-4a70-9e58-aef6d19fa642",
   "metadata": {},
   "source": [
    "## Which cancellation policy is most common across room types?"
   ]
  },
  {
   "cell_type": "code",
   "execution_count": 79,
   "id": "676f8394-c523-4374-9475-596d088b831c",
   "metadata": {},
   "outputs": [
    {
     "data": {
      "image/png": "[encoded data removed]",
      "text/plain": [
       "<Figure size 1700x1000 with 1 Axes>"
      ]
     },
     "metadata": {},
     "output_type": "display_data"
    }
   ],
   "source": [
    "plt.figure(figsize=(17,10))\n",
    "ax=sns.countplot(data=df, hue='room_type',x='cancellation_policy')\n",
    "for container in ax.containers:\n",
    "    ax.bar_label(container, fmt='%.2f', label_type='edge', padding=0)\n",
    "plt.title('Distribution of Cancellation Policies Across Room Types')\n",
    "plt.ylabel('Number of Room Types')\n",
    "plt.legend(title='Room Types', fontsize=14, title_fontsize=16)\n",
    "plt.show()"
   ]
  },
  {
   "cell_type": "markdown",
   "id": "fa4b2e7f-f9bd-48ac-aba0-6d9cfa4dcb02",
   "metadata": {},
   "source": [
    "## Is there any trend between number of reviews and review rate?"
   ]
  },
  {
   "cell_type": "code",
   "execution_count": 87,
   "id": "92718303-3ba8-432b-bf25-3606225d08db",
   "metadata": {},
   "outputs": [
    {
     "data": {
      "image/png": "[encoded data removed]",
      "text/plain": [
       "<Figure size 640x480 with 1 Axes>"
      ]
     },
     "metadata": {},
     "output_type": "display_data"
    }
   ],
   "source": [
    "sns.stripplot(data =df, y='number_of_reviews',x='review_rate_number')\n",
    "plt.title(\"Relationship Between Review Numbers and Review Rating\")\n",
    "plt.show()"
   ]
  },
  {
   "cell_type": "code",
   "execution_count": null,
   "id": "02946031-bddc-4cc1-ac3f-5d2860473cb7",
   "metadata": {},
   "outputs": [],
   "source": []
  }
 ],
 "metadata": {
  "kernelspec": {
   "display_name": "Python 3 (ipykernel)",
   "language": "python",
   "name": "python3"
  },
  "language_info": {
   "codemirror_mode": {
    "name": "ipython",
    "version": 3
   },
   "file_extension": ".py",
   "mimetype": "text/x-python",
   "name": "python",
   "nbconvert_exporter": "python",
   "pygments_lexer": "ipython3",
   "version": "3.12.5"
  }
 },
 "nbformat": 4,
 "nbformat_minor": 5
}
